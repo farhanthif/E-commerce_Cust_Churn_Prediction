{
  "cells": [
    {
      "cell_type": "code",
      "execution_count": null,
      "metadata": {
        "colab": {
          "base_uri": "https://localhost:8080/"
        },
        "id": "lqE_dhV2vMsR",
        "outputId": "d12262f5-0c62-4bac-a36a-17ec2a522426"
      },
      "outputs": [
        {
          "output_type": "stream",
          "name": "stdout",
          "text": [
            "Drive already mounted at /content/drive; to attempt to forcibly remount, call drive.mount(\"/content/drive\", force_remount=True).\n"
          ]
        }
      ],
      "source": [
        "from google.colab import drive\n",
        "drive.mount('/content/drive')"
      ]
    },
    {
      "cell_type": "markdown",
      "metadata": {
        "id": "u4KcWfYLvT34"
      },
      "source": [
        "# Import Libraries"
      ]
    },
    {
      "cell_type": "code",
      "execution_count": null,
      "metadata": {
        "id": "LaWKRESHvZJJ"
      },
      "outputs": [],
      "source": [
        "import pandas as pd\n",
        "import numpy as np\n",
        "import matplotlib.pyplot as plt"
      ]
    },
    {
      "cell_type": "markdown",
      "metadata": {
        "id": "XkvaMMMRv2k0"
      },
      "source": [
        "# Import Dataset"
      ]
    },
    {
      "cell_type": "markdown",
      "metadata": {
        "id": "hLMX8kUt6EKg"
      },
      "source": [
        "These datasets were prepared in another notebook for simplicity purposes. More about the dataset on this notebook link: [Dataset Preparation Notebook](https://colab.research.google.com/drive/1L1sX-3cYew_iYlyuD9maQ5u_DhDBP9mx?usp=sharing)"
      ]
    },
    {
      "cell_type": "code",
      "execution_count": null,
      "metadata": {
        "id": "qT80SR5fAlwe"
      },
      "outputs": [],
      "source": [
        "df_w1 = pd.read_csv(\"/content/drive/MyDrive/Studi Independen/FP/FP - Window Dataset/df_features_w1_model_train.csv\")\n",
        "df_w2 = pd.read_csv(\"/content/drive/MyDrive/Studi Independen/FP/FP - Window Dataset/df_features_w2_model_train.csv\")\n",
        "df_w3 = pd.read_csv(\"/content/drive/MyDrive/Studi Independen/FP/FP - Window Dataset/df_features_w3_model_train.csv\")\n",
        "df_w4 = pd.read_csv(\"/content/drive/MyDrive/Studi Independen/FP/FP - Window Dataset/df_features_w4_model_train.csv\")\n",
        "df_w5 = pd.read_csv(\"/content/drive/MyDrive/Studi Independen/FP/FP - Window Dataset/df_features_w5_model_train.csv\")\n",
        "df_validation = pd.read_csv(\"/content/drive/MyDrive/Studi Independen/FP/FP - Window Dataset/df_features_w6_model_validation.csv\")\n",
        "df_test = pd.read_csv(\"/content/drive/MyDrive/Studi Independen/FP/FP - Window Dataset/df_features_w7_model_predict.csv\")"
      ]
    },
    {
      "cell_type": "code",
      "execution_count": null,
      "metadata": {
        "colab": {
          "base_uri": "https://localhost:8080/"
        },
        "id": "pPtzxd5EBBf1",
        "outputId": "90808903-c90f-420f-9bf3-77de41415e34"
      },
      "outputs": [
        {
          "output_type": "stream",
          "name": "stdout",
          "text": [
            "<class 'pandas.core.frame.DataFrame'>\n",
            "RangeIndex: 26204 entries, 0 to 26203\n",
            "Data columns (total 36 columns):\n",
            " #   Column                          Non-Null Count  Dtype  \n",
            "---  ------                          --------------  -----  \n",
            " 0   customer_id                     26204 non-null  int64  \n",
            " 1   customer_age_years              26204 non-null  int64  \n",
            " 2   account_age_months              26204 non-null  int64  \n",
            " 3   gender_female                   26204 non-null  int64  \n",
            " 4   gender_male                     26204 non-null  int64  \n",
            " 5   event_total                     26204 non-null  int64  \n",
            " 6   event_add_promo_total           26204 non-null  int64  \n",
            " 7   event_add_to_cart_total         26204 non-null  int64  \n",
            " 8   event_booking_total             26204 non-null  int64  \n",
            " 9   event_click_total               26204 non-null  int64  \n",
            " 10  event_homepage_total            26204 non-null  float64\n",
            " 11  event_item_detail_total         26204 non-null  int64  \n",
            " 12  event_promo_page_total          26204 non-null  int64  \n",
            " 13  event_scroll_total              26204 non-null  int64  \n",
            " 14  event_search_total              26204 non-null  int64  \n",
            " 15  promo_amount_total              26204 non-null  int64  \n",
            " 16  promo_amount_avg                26204 non-null  float64\n",
            " 17  shipment_fee_total              26204 non-null  int64  \n",
            " 18  shipment_fee_avg                26204 non-null  float64\n",
            " 19  total_amount_product_total      26204 non-null  int64  \n",
            " 20  total_amount_product_avg        26204 non-null  float64\n",
            " 21  shipment_duration_avg           26204 non-null  float64\n",
            " 22  using_promo_total               26204 non-null  int64  \n",
            " 23  payment_creditcard_total        26204 non-null  int64  \n",
            " 24  payment_debitcard_total         26204 non-null  int64  \n",
            " 25  payment_gopay_total             26204 non-null  int64  \n",
            " 26  payment_linkaja_total           26204 non-null  int64  \n",
            " 27  payment_ovo_total               26204 non-null  int64  \n",
            " 28  payment_failed_total            26204 non-null  int64  \n",
            " 29  payment_success_total           26204 non-null  int64  \n",
            " 30  session_duration_minutes_total  26204 non-null  int64  \n",
            " 31  session_duration_minutes_avg    26204 non-null  float64\n",
            " 32  using_mobile_total              26204 non-null  int64  \n",
            " 33  using_web_total                 26204 non-null  int64  \n",
            " 34  transaction_recency_days        26204 non-null  int64  \n",
            " 35  is_churn                        26204 non-null  int64  \n",
            "dtypes: float64(6), int64(30)\n",
            "memory usage: 7.2 MB\n",
            "<class 'pandas.core.frame.DataFrame'>\n",
            "RangeIndex: 27929 entries, 0 to 27928\n",
            "Data columns (total 36 columns):\n",
            " #   Column                          Non-Null Count  Dtype  \n",
            "---  ------                          --------------  -----  \n",
            " 0   customer_id                     27929 non-null  int64  \n",
            " 1   customer_age_years              27929 non-null  int64  \n",
            " 2   account_age_months              27929 non-null  int64  \n",
            " 3   gender_female                   27929 non-null  int64  \n",
            " 4   gender_male                     27929 non-null  int64  \n",
            " 5   event_total                     27929 non-null  int64  \n",
            " 6   event_add_promo_total           27929 non-null  int64  \n",
            " 7   event_add_to_cart_total         27929 non-null  int64  \n",
            " 8   event_booking_total             27929 non-null  int64  \n",
            " 9   event_click_total               27929 non-null  int64  \n",
            " 10  event_homepage_total            27929 non-null  float64\n",
            " 11  event_item_detail_total         27929 non-null  int64  \n",
            " 12  event_promo_page_total          27929 non-null  int64  \n",
            " 13  event_scroll_total              27929 non-null  int64  \n",
            " 14  event_search_total              27929 non-null  int64  \n",
            " 15  promo_amount_total              27929 non-null  int64  \n",
            " 16  promo_amount_avg                27929 non-null  float64\n",
            " 17  shipment_fee_total              27929 non-null  int64  \n",
            " 18  shipment_fee_avg                27929 non-null  float64\n",
            " 19  total_amount_product_total      27929 non-null  int64  \n",
            " 20  total_amount_product_avg        27929 non-null  float64\n",
            " 21  shipment_duration_avg           27929 non-null  float64\n",
            " 22  using_promo_total               27929 non-null  int64  \n",
            " 23  payment_creditcard_total        27929 non-null  int64  \n",
            " 24  payment_debitcard_total         27929 non-null  int64  \n",
            " 25  payment_gopay_total             27929 non-null  int64  \n",
            " 26  payment_linkaja_total           27929 non-null  int64  \n",
            " 27  payment_ovo_total               27929 non-null  int64  \n",
            " 28  payment_failed_total            27929 non-null  int64  \n",
            " 29  payment_success_total           27929 non-null  int64  \n",
            " 30  session_duration_minutes_total  27929 non-null  int64  \n",
            " 31  session_duration_minutes_avg    27929 non-null  float64\n",
            " 32  using_mobile_total              27929 non-null  int64  \n",
            " 33  using_web_total                 27929 non-null  int64  \n",
            " 34  transaction_recency_days        27929 non-null  int64  \n",
            " 35  is_churn                        27929 non-null  int64  \n",
            "dtypes: float64(6), int64(30)\n",
            "memory usage: 7.7 MB\n",
            "<class 'pandas.core.frame.DataFrame'>\n",
            "RangeIndex: 29175 entries, 0 to 29174\n",
            "Data columns (total 36 columns):\n",
            " #   Column                          Non-Null Count  Dtype  \n",
            "---  ------                          --------------  -----  \n",
            " 0   customer_id                     29175 non-null  int64  \n",
            " 1   customer_age_years              29175 non-null  int64  \n",
            " 2   account_age_months              29175 non-null  int64  \n",
            " 3   gender_female                   29175 non-null  int64  \n",
            " 4   gender_male                     29175 non-null  int64  \n",
            " 5   event_total                     29175 non-null  int64  \n",
            " 6   event_add_promo_total           29175 non-null  int64  \n",
            " 7   event_add_to_cart_total         29175 non-null  int64  \n",
            " 8   event_booking_total             29175 non-null  int64  \n",
            " 9   event_click_total               29175 non-null  int64  \n",
            " 10  event_homepage_total            29175 non-null  int64  \n",
            " 11  event_item_detail_total         29175 non-null  int64  \n",
            " 12  event_promo_page_total          29175 non-null  int64  \n",
            " 13  event_scroll_total              29175 non-null  int64  \n",
            " 14  event_search_total              29175 non-null  int64  \n",
            " 15  promo_amount_total              29175 non-null  int64  \n",
            " 16  promo_amount_avg                29175 non-null  float64\n",
            " 17  shipment_fee_total              29175 non-null  int64  \n",
            " 18  shipment_fee_avg                29175 non-null  float64\n",
            " 19  total_amount_product_total      29175 non-null  int64  \n",
            " 20  total_amount_product_avg        29175 non-null  float64\n",
            " 21  shipment_duration_avg           29175 non-null  float64\n",
            " 22  using_promo_total               29175 non-null  int64  \n",
            " 23  payment_creditcard_total        29175 non-null  int64  \n",
            " 24  payment_debitcard_total         29175 non-null  int64  \n",
            " 25  payment_gopay_total             29175 non-null  int64  \n",
            " 26  payment_linkaja_total           29175 non-null  int64  \n",
            " 27  payment_ovo_total               29175 non-null  int64  \n",
            " 28  payment_failed_total            29175 non-null  int64  \n",
            " 29  payment_success_total           29175 non-null  int64  \n",
            " 30  session_duration_minutes_total  29175 non-null  int64  \n",
            " 31  session_duration_minutes_avg    29175 non-null  float64\n",
            " 32  using_mobile_total              29175 non-null  int64  \n",
            " 33  using_web_total                 29175 non-null  int64  \n",
            " 34  transaction_recency_days        29175 non-null  int64  \n",
            " 35  is_churn                        29175 non-null  int64  \n",
            "dtypes: float64(5), int64(31)\n",
            "memory usage: 8.0 MB\n",
            "<class 'pandas.core.frame.DataFrame'>\n",
            "RangeIndex: 29863 entries, 0 to 29862\n",
            "Data columns (total 36 columns):\n",
            " #   Column                          Non-Null Count  Dtype  \n",
            "---  ------                          --------------  -----  \n",
            " 0   customer_id                     29863 non-null  int64  \n",
            " 1   customer_age_years              29863 non-null  int64  \n",
            " 2   account_age_months              29863 non-null  int64  \n",
            " 3   gender_female                   29863 non-null  int64  \n",
            " 4   gender_male                     29863 non-null  int64  \n",
            " 5   event_total                     29863 non-null  int64  \n",
            " 6   event_add_promo_total           29863 non-null  int64  \n",
            " 7   event_add_to_cart_total         29863 non-null  int64  \n",
            " 8   event_booking_total             29863 non-null  int64  \n",
            " 9   event_click_total               29863 non-null  int64  \n",
            " 10  event_homepage_total            29863 non-null  float64\n",
            " 11  event_item_detail_total         29863 non-null  int64  \n",
            " 12  event_promo_page_total          29863 non-null  int64  \n",
            " 13  event_scroll_total              29863 non-null  int64  \n",
            " 14  event_search_total              29863 non-null  int64  \n",
            " 15  promo_amount_total              29863 non-null  int64  \n",
            " 16  promo_amount_avg                29863 non-null  float64\n",
            " 17  shipment_fee_total              29863 non-null  int64  \n",
            " 18  shipment_fee_avg                29863 non-null  float64\n",
            " 19  total_amount_product_total      29863 non-null  int64  \n",
            " 20  total_amount_product_avg        29863 non-null  float64\n",
            " 21  shipment_duration_avg           29863 non-null  float64\n",
            " 22  using_promo_total               29863 non-null  int64  \n",
            " 23  payment_creditcard_total        29863 non-null  int64  \n",
            " 24  payment_debitcard_total         29863 non-null  int64  \n",
            " 25  payment_gopay_total             29863 non-null  int64  \n",
            " 26  payment_linkaja_total           29863 non-null  int64  \n",
            " 27  payment_ovo_total               29863 non-null  int64  \n",
            " 28  payment_failed_total            29863 non-null  int64  \n",
            " 29  payment_success_total           29863 non-null  int64  \n",
            " 30  session_duration_minutes_total  29863 non-null  int64  \n",
            " 31  session_duration_minutes_avg    29863 non-null  float64\n",
            " 32  using_mobile_total              29863 non-null  int64  \n",
            " 33  using_web_total                 29863 non-null  int64  \n",
            " 34  transaction_recency_days        29863 non-null  int64  \n",
            " 35  is_churn                        29863 non-null  int64  \n",
            "dtypes: float64(6), int64(30)\n",
            "memory usage: 8.2 MB\n",
            "<class 'pandas.core.frame.DataFrame'>\n",
            "RangeIndex: 30975 entries, 0 to 30974\n",
            "Data columns (total 36 columns):\n",
            " #   Column                          Non-Null Count  Dtype  \n",
            "---  ------                          --------------  -----  \n",
            " 0   customer_id                     30975 non-null  int64  \n",
            " 1   customer_age_years              30975 non-null  int64  \n",
            " 2   account_age_months              30975 non-null  int64  \n",
            " 3   gender_female                   30975 non-null  int64  \n",
            " 4   gender_male                     30975 non-null  int64  \n",
            " 5   event_total                     30975 non-null  int64  \n",
            " 6   event_add_promo_total           30975 non-null  int64  \n",
            " 7   event_add_to_cart_total         30975 non-null  int64  \n",
            " 8   event_booking_total             30975 non-null  int64  \n",
            " 9   event_click_total               30975 non-null  int64  \n",
            " 10  event_homepage_total            30975 non-null  float64\n",
            " 11  event_item_detail_total         30975 non-null  int64  \n",
            " 12  event_promo_page_total          30975 non-null  int64  \n",
            " 13  event_scroll_total              30975 non-null  int64  \n",
            " 14  event_search_total              30975 non-null  int64  \n",
            " 15  promo_amount_total              30975 non-null  int64  \n",
            " 16  promo_amount_avg                30975 non-null  float64\n",
            " 17  shipment_fee_total              30975 non-null  int64  \n",
            " 18  shipment_fee_avg                30975 non-null  float64\n",
            " 19  total_amount_product_total      30975 non-null  int64  \n",
            " 20  total_amount_product_avg        30975 non-null  float64\n",
            " 21  shipment_duration_avg           30975 non-null  float64\n",
            " 22  using_promo_total               30975 non-null  int64  \n",
            " 23  payment_creditcard_total        30975 non-null  int64  \n",
            " 24  payment_debitcard_total         30975 non-null  int64  \n",
            " 25  payment_gopay_total             30975 non-null  int64  \n",
            " 26  payment_linkaja_total           30975 non-null  int64  \n",
            " 27  payment_ovo_total               30975 non-null  int64  \n",
            " 28  payment_failed_total            30975 non-null  int64  \n",
            " 29  payment_success_total           30975 non-null  int64  \n",
            " 30  session_duration_minutes_total  30975 non-null  int64  \n",
            " 31  session_duration_minutes_avg    30975 non-null  float64\n",
            " 32  using_mobile_total              30975 non-null  int64  \n",
            " 33  using_web_total                 30975 non-null  int64  \n",
            " 34  transaction_recency_days        30975 non-null  int64  \n",
            " 35  is_churn                        30975 non-null  int64  \n",
            "dtypes: float64(6), int64(30)\n",
            "memory usage: 8.5 MB\n",
            "<class 'pandas.core.frame.DataFrame'>\n",
            "RangeIndex: 29152 entries, 0 to 29151\n",
            "Data columns (total 36 columns):\n",
            " #   Column                          Non-Null Count  Dtype  \n",
            "---  ------                          --------------  -----  \n",
            " 0   customer_id                     29152 non-null  int64  \n",
            " 1   customer_age_years              29152 non-null  int64  \n",
            " 2   account_age_months              29152 non-null  int64  \n",
            " 3   gender_female                   29152 non-null  int64  \n",
            " 4   gender_male                     29152 non-null  int64  \n",
            " 5   event_total                     29152 non-null  int64  \n",
            " 6   event_add_promo_total           29152 non-null  int64  \n",
            " 7   event_add_to_cart_total         29152 non-null  int64  \n",
            " 8   event_booking_total             29152 non-null  int64  \n",
            " 9   event_click_total               29152 non-null  float64\n",
            " 10  event_homepage_total            29152 non-null  float64\n",
            " 11  event_item_detail_total         29152 non-null  int64  \n",
            " 12  event_promo_page_total          29152 non-null  int64  \n",
            " 13  event_scroll_total              29152 non-null  int64  \n",
            " 14  event_search_total              29152 non-null  int64  \n",
            " 15  promo_amount_total              29152 non-null  int64  \n",
            " 16  promo_amount_avg                29152 non-null  float64\n",
            " 17  shipment_fee_total              29152 non-null  int64  \n",
            " 18  shipment_fee_avg                29152 non-null  float64\n",
            " 19  total_amount_product_total      29152 non-null  int64  \n",
            " 20  total_amount_product_avg        29152 non-null  float64\n",
            " 21  shipment_duration_avg           29152 non-null  float64\n",
            " 22  using_promo_total               29152 non-null  int64  \n",
            " 23  payment_creditcard_total        29152 non-null  int64  \n",
            " 24  payment_debitcard_total         29152 non-null  int64  \n",
            " 25  payment_gopay_total             29152 non-null  int64  \n",
            " 26  payment_linkaja_total           29152 non-null  int64  \n",
            " 27  payment_ovo_total               29152 non-null  int64  \n",
            " 28  payment_failed_total            29152 non-null  int64  \n",
            " 29  payment_success_total           29152 non-null  int64  \n",
            " 30  session_duration_minutes_total  29152 non-null  int64  \n",
            " 31  session_duration_minutes_avg    29152 non-null  float64\n",
            " 32  using_mobile_total              29152 non-null  int64  \n",
            " 33  using_web_total                 29152 non-null  int64  \n",
            " 34  transaction_recency_days        29152 non-null  int64  \n",
            " 35  is_churn                        29152 non-null  int64  \n",
            "dtypes: float64(7), int64(29)\n",
            "memory usage: 8.0 MB\n",
            "<class 'pandas.core.frame.DataFrame'>\n",
            "RangeIndex: 18346 entries, 0 to 18345\n",
            "Data columns (total 35 columns):\n",
            " #   Column                          Non-Null Count  Dtype  \n",
            "---  ------                          --------------  -----  \n",
            " 0   customer_id                     18346 non-null  int64  \n",
            " 1   customer_age_years              18346 non-null  int64  \n",
            " 2   account_age_months              18346 non-null  int64  \n",
            " 3   gender_female                   18346 non-null  int64  \n",
            " 4   gender_male                     18346 non-null  int64  \n",
            " 5   event_total                     18346 non-null  int64  \n",
            " 6   event_add_promo_total           18346 non-null  int64  \n",
            " 7   event_add_to_cart_total         18346 non-null  int64  \n",
            " 8   event_booking_total             18346 non-null  int64  \n",
            " 9   event_click_total               18346 non-null  float64\n",
            " 10  event_homepage_total            18346 non-null  float64\n",
            " 11  event_item_detail_total         18346 non-null  int64  \n",
            " 12  event_promo_page_total          18346 non-null  int64  \n",
            " 13  event_scroll_total              18346 non-null  int64  \n",
            " 14  event_search_total              18346 non-null  int64  \n",
            " 15  promo_amount_total              18346 non-null  int64  \n",
            " 16  promo_amount_avg                18346 non-null  float64\n",
            " 17  shipment_fee_total              18346 non-null  int64  \n",
            " 18  shipment_fee_avg                18346 non-null  float64\n",
            " 19  total_amount_product_total      18346 non-null  int64  \n",
            " 20  total_amount_product_avg        18346 non-null  float64\n",
            " 21  shipment_duration_avg           18346 non-null  float64\n",
            " 22  using_promo_total               18346 non-null  int64  \n",
            " 23  payment_creditcard_total        18346 non-null  int64  \n",
            " 24  payment_debitcard_total         18346 non-null  int64  \n",
            " 25  payment_gopay_total             18346 non-null  int64  \n",
            " 26  payment_linkaja_total           18346 non-null  int64  \n",
            " 27  payment_ovo_total               18346 non-null  int64  \n",
            " 28  payment_failed_total            18346 non-null  int64  \n",
            " 29  payment_success_total           18346 non-null  int64  \n",
            " 30  session_duration_minutes_total  18346 non-null  int64  \n",
            " 31  session_duration_minutes_avg    18346 non-null  float64\n",
            " 32  using_mobile_total              18346 non-null  int64  \n",
            " 33  using_web_total                 18346 non-null  int64  \n",
            " 34  transaction_recency_days        18346 non-null  int64  \n",
            "dtypes: float64(7), int64(28)\n",
            "memory usage: 4.9 MB\n"
          ]
        }
      ],
      "source": [
        "dfs = [df_w1, df_w2, df_w3, df_w4, df_w5, df_validation, df_test]\n",
        "for i in dfs :\n",
        "  i.info()"
      ]
    },
    {
      "cell_type": "markdown",
      "source": [
        "Unify all train datasets."
      ],
      "metadata": {
        "id": "fDLZGcnl2Bap"
      }
    },
    {
      "cell_type": "code",
      "execution_count": null,
      "metadata": {
        "colab": {
          "base_uri": "https://localhost:8080/"
        },
        "id": "g8k42M-QBmFE",
        "outputId": "494c6772-1a7b-4daa-df7e-70f11c037a2d"
      },
      "outputs": [
        {
          "output_type": "stream",
          "name": "stdout",
          "text": [
            "<class 'pandas.core.frame.DataFrame'>\n",
            "RangeIndex: 144146 entries, 0 to 144145\n",
            "Data columns (total 36 columns):\n",
            " #   Column                          Non-Null Count   Dtype  \n",
            "---  ------                          --------------   -----  \n",
            " 0   customer_id                     144146 non-null  int64  \n",
            " 1   customer_age_years              144146 non-null  int64  \n",
            " 2   account_age_months              144146 non-null  int64  \n",
            " 3   gender_female                   144146 non-null  int64  \n",
            " 4   gender_male                     144146 non-null  int64  \n",
            " 5   event_total                     144146 non-null  int64  \n",
            " 6   event_add_promo_total           144146 non-null  int64  \n",
            " 7   event_add_to_cart_total         144146 non-null  int64  \n",
            " 8   event_booking_total             144146 non-null  int64  \n",
            " 9   event_click_total               144146 non-null  int64  \n",
            " 10  event_homepage_total            144146 non-null  float64\n",
            " 11  event_item_detail_total         144146 non-null  int64  \n",
            " 12  event_promo_page_total          144146 non-null  int64  \n",
            " 13  event_scroll_total              144146 non-null  int64  \n",
            " 14  event_search_total              144146 non-null  int64  \n",
            " 15  promo_amount_total              144146 non-null  int64  \n",
            " 16  promo_amount_avg                144146 non-null  float64\n",
            " 17  shipment_fee_total              144146 non-null  int64  \n",
            " 18  shipment_fee_avg                144146 non-null  float64\n",
            " 19  total_amount_product_total      144146 non-null  int64  \n",
            " 20  total_amount_product_avg        144146 non-null  float64\n",
            " 21  shipment_duration_avg           144146 non-null  float64\n",
            " 22  using_promo_total               144146 non-null  int64  \n",
            " 23  payment_creditcard_total        144146 non-null  int64  \n",
            " 24  payment_debitcard_total         144146 non-null  int64  \n",
            " 25  payment_gopay_total             144146 non-null  int64  \n",
            " 26  payment_linkaja_total           144146 non-null  int64  \n",
            " 27  payment_ovo_total               144146 non-null  int64  \n",
            " 28  payment_failed_total            144146 non-null  int64  \n",
            " 29  payment_success_total           144146 non-null  int64  \n",
            " 30  session_duration_minutes_total  144146 non-null  int64  \n",
            " 31  session_duration_minutes_avg    144146 non-null  float64\n",
            " 32  using_mobile_total              144146 non-null  int64  \n",
            " 33  using_web_total                 144146 non-null  int64  \n",
            " 34  transaction_recency_days        144146 non-null  int64  \n",
            " 35  is_churn                        144146 non-null  int64  \n",
            "dtypes: float64(6), int64(30)\n",
            "memory usage: 39.6 MB\n"
          ]
        }
      ],
      "source": [
        "df_train = pd.concat([df_w1, df_w2, df_w3, df_w4, df_w5], ignore_index=True)\n",
        "df_train.info()"
      ]
    },
    {
      "cell_type": "code",
      "execution_count": null,
      "metadata": {
        "colab": {
          "base_uri": "https://localhost:8080/",
          "height": 300
        },
        "id": "HOqDB-TfCkg-",
        "outputId": "ed3491dd-a3f6-4164-a04d-5f750b579f54"
      },
      "outputs": [
        {
          "output_type": "execute_result",
          "data": {
            "text/plain": [
              "        customer_id  customer_age_years  account_age_months  gender_female  \\\n",
              "54488          1212                  32                  45              1   \n",
              "37448         39703                  24                  40              0   \n",
              "137085        77251                  34                  22              1   \n",
              "35349         32248                  32                  26              0   \n",
              "1671           6102                  22                  37              1   \n",
              "\n",
              "        gender_male  event_total  event_add_promo_total  \\\n",
              "54488             0            1                      0   \n",
              "37448             1           23                      1   \n",
              "137085            0           61                      1   \n",
              "35349             1          152                      1   \n",
              "1671              0           16                      1   \n",
              "\n",
              "        event_add_to_cart_total  event_booking_total  event_click_total  ...  \\\n",
              "54488                         0                    1                  0  ...   \n",
              "37448                         3                    2                  6  ...   \n",
              "137085                       15                    5                 10  ...   \n",
              "35349                         7                    6                 39  ...   \n",
              "1671                          3                    2                  4  ...   \n",
              "\n",
              "        payment_linkaja_total  payment_ovo_total  payment_failed_total  \\\n",
              "54488                       0                  0                     0   \n",
              "37448                       1                  0                     0   \n",
              "137085                      0                  0                     0   \n",
              "35349                       0                  5                     0   \n",
              "1671                        0                  0                     0   \n",
              "\n",
              "        payment_success_total  session_duration_minutes_total  \\\n",
              "54488                       1                               0   \n",
              "37448                       2                            7415   \n",
              "137085                      5                           52468   \n",
              "35349                       6                           54774   \n",
              "1671                        2                           30533   \n",
              "\n",
              "        session_duration_minutes_avg  using_mobile_total  using_web_total  \\\n",
              "54488                            0.0                   1                0   \n",
              "37448                         3707.5                   2                0   \n",
              "137085                       10493.6                   4                1   \n",
              "35349                         9129.0                   6                0   \n",
              "1671                         15266.5                   2                0   \n",
              "\n",
              "        transaction_recency_days  is_churn  \n",
              "54488                        135         1  \n",
              "37448                         97         0  \n",
              "137085                        70         0  \n",
              "35349                         69         0  \n",
              "1671                          68         1  \n",
              "\n",
              "[5 rows x 36 columns]"
            ],
            "text/html": [
              "\n",
              "  <div id=\"df-a01574d6-c1c2-452b-861e-4ca5c252e032\">\n",
              "    <div class=\"colab-df-container\">\n",
              "      <div>\n",
              "<style scoped>\n",
              "    .dataframe tbody tr th:only-of-type {\n",
              "        vertical-align: middle;\n",
              "    }\n",
              "\n",
              "    .dataframe tbody tr th {\n",
              "        vertical-align: top;\n",
              "    }\n",
              "\n",
              "    .dataframe thead th {\n",
              "        text-align: right;\n",
              "    }\n",
              "</style>\n",
              "<table border=\"1\" class=\"dataframe\">\n",
              "  <thead>\n",
              "    <tr style=\"text-align: right;\">\n",
              "      <th></th>\n",
              "      <th>customer_id</th>\n",
              "      <th>customer_age_years</th>\n",
              "      <th>account_age_months</th>\n",
              "      <th>gender_female</th>\n",
              "      <th>gender_male</th>\n",
              "      <th>event_total</th>\n",
              "      <th>event_add_promo_total</th>\n",
              "      <th>event_add_to_cart_total</th>\n",
              "      <th>event_booking_total</th>\n",
              "      <th>event_click_total</th>\n",
              "      <th>...</th>\n",
              "      <th>payment_linkaja_total</th>\n",
              "      <th>payment_ovo_total</th>\n",
              "      <th>payment_failed_total</th>\n",
              "      <th>payment_success_total</th>\n",
              "      <th>session_duration_minutes_total</th>\n",
              "      <th>session_duration_minutes_avg</th>\n",
              "      <th>using_mobile_total</th>\n",
              "      <th>using_web_total</th>\n",
              "      <th>transaction_recency_days</th>\n",
              "      <th>is_churn</th>\n",
              "    </tr>\n",
              "  </thead>\n",
              "  <tbody>\n",
              "    <tr>\n",
              "      <th>54488</th>\n",
              "      <td>1212</td>\n",
              "      <td>32</td>\n",
              "      <td>45</td>\n",
              "      <td>1</td>\n",
              "      <td>0</td>\n",
              "      <td>1</td>\n",
              "      <td>0</td>\n",
              "      <td>0</td>\n",
              "      <td>1</td>\n",
              "      <td>0</td>\n",
              "      <td>...</td>\n",
              "      <td>0</td>\n",
              "      <td>0</td>\n",
              "      <td>0</td>\n",
              "      <td>1</td>\n",
              "      <td>0</td>\n",
              "      <td>0.0</td>\n",
              "      <td>1</td>\n",
              "      <td>0</td>\n",
              "      <td>135</td>\n",
              "      <td>1</td>\n",
              "    </tr>\n",
              "    <tr>\n",
              "      <th>37448</th>\n",
              "      <td>39703</td>\n",
              "      <td>24</td>\n",
              "      <td>40</td>\n",
              "      <td>0</td>\n",
              "      <td>1</td>\n",
              "      <td>23</td>\n",
              "      <td>1</td>\n",
              "      <td>3</td>\n",
              "      <td>2</td>\n",
              "      <td>6</td>\n",
              "      <td>...</td>\n",
              "      <td>1</td>\n",
              "      <td>0</td>\n",
              "      <td>0</td>\n",
              "      <td>2</td>\n",
              "      <td>7415</td>\n",
              "      <td>3707.5</td>\n",
              "      <td>2</td>\n",
              "      <td>0</td>\n",
              "      <td>97</td>\n",
              "      <td>0</td>\n",
              "    </tr>\n",
              "    <tr>\n",
              "      <th>137085</th>\n",
              "      <td>77251</td>\n",
              "      <td>34</td>\n",
              "      <td>22</td>\n",
              "      <td>1</td>\n",
              "      <td>0</td>\n",
              "      <td>61</td>\n",
              "      <td>1</td>\n",
              "      <td>15</td>\n",
              "      <td>5</td>\n",
              "      <td>10</td>\n",
              "      <td>...</td>\n",
              "      <td>0</td>\n",
              "      <td>0</td>\n",
              "      <td>0</td>\n",
              "      <td>5</td>\n",
              "      <td>52468</td>\n",
              "      <td>10493.6</td>\n",
              "      <td>4</td>\n",
              "      <td>1</td>\n",
              "      <td>70</td>\n",
              "      <td>0</td>\n",
              "    </tr>\n",
              "    <tr>\n",
              "      <th>35349</th>\n",
              "      <td>32248</td>\n",
              "      <td>32</td>\n",
              "      <td>26</td>\n",
              "      <td>0</td>\n",
              "      <td>1</td>\n",
              "      <td>152</td>\n",
              "      <td>1</td>\n",
              "      <td>7</td>\n",
              "      <td>6</td>\n",
              "      <td>39</td>\n",
              "      <td>...</td>\n",
              "      <td>0</td>\n",
              "      <td>5</td>\n",
              "      <td>0</td>\n",
              "      <td>6</td>\n",
              "      <td>54774</td>\n",
              "      <td>9129.0</td>\n",
              "      <td>6</td>\n",
              "      <td>0</td>\n",
              "      <td>69</td>\n",
              "      <td>0</td>\n",
              "    </tr>\n",
              "    <tr>\n",
              "      <th>1671</th>\n",
              "      <td>6102</td>\n",
              "      <td>22</td>\n",
              "      <td>37</td>\n",
              "      <td>1</td>\n",
              "      <td>0</td>\n",
              "      <td>16</td>\n",
              "      <td>1</td>\n",
              "      <td>3</td>\n",
              "      <td>2</td>\n",
              "      <td>4</td>\n",
              "      <td>...</td>\n",
              "      <td>0</td>\n",
              "      <td>0</td>\n",
              "      <td>0</td>\n",
              "      <td>2</td>\n",
              "      <td>30533</td>\n",
              "      <td>15266.5</td>\n",
              "      <td>2</td>\n",
              "      <td>0</td>\n",
              "      <td>68</td>\n",
              "      <td>1</td>\n",
              "    </tr>\n",
              "  </tbody>\n",
              "</table>\n",
              "<p>5 rows × 36 columns</p>\n",
              "</div>\n",
              "      <button class=\"colab-df-convert\" onclick=\"convertToInteractive('df-a01574d6-c1c2-452b-861e-4ca5c252e032')\"\n",
              "              title=\"Convert this dataframe to an interactive table.\"\n",
              "              style=\"display:none;\">\n",
              "        \n",
              "  <svg xmlns=\"http://www.w3.org/2000/svg\" height=\"24px\"viewBox=\"0 0 24 24\"\n",
              "       width=\"24px\">\n",
              "    <path d=\"M0 0h24v24H0V0z\" fill=\"none\"/>\n",
              "    <path d=\"M18.56 5.44l.94 2.06.94-2.06 2.06-.94-2.06-.94-.94-2.06-.94 2.06-2.06.94zm-11 1L8.5 8.5l.94-2.06 2.06-.94-2.06-.94L8.5 2.5l-.94 2.06-2.06.94zm10 10l.94 2.06.94-2.06 2.06-.94-2.06-.94-.94-2.06-.94 2.06-2.06.94z\"/><path d=\"M17.41 7.96l-1.37-1.37c-.4-.4-.92-.59-1.43-.59-.52 0-1.04.2-1.43.59L10.3 9.45l-7.72 7.72c-.78.78-.78 2.05 0 2.83L4 21.41c.39.39.9.59 1.41.59.51 0 1.02-.2 1.41-.59l7.78-7.78 2.81-2.81c.8-.78.8-2.07 0-2.86zM5.41 20L4 18.59l7.72-7.72 1.47 1.35L5.41 20z\"/>\n",
              "  </svg>\n",
              "      </button>\n",
              "      \n",
              "  <style>\n",
              "    .colab-df-container {\n",
              "      display:flex;\n",
              "      flex-wrap:wrap;\n",
              "      gap: 12px;\n",
              "    }\n",
              "\n",
              "    .colab-df-convert {\n",
              "      background-color: #E8F0FE;\n",
              "      border: none;\n",
              "      border-radius: 50%;\n",
              "      cursor: pointer;\n",
              "      display: none;\n",
              "      fill: #1967D2;\n",
              "      height: 32px;\n",
              "      padding: 0 0 0 0;\n",
              "      width: 32px;\n",
              "    }\n",
              "\n",
              "    .colab-df-convert:hover {\n",
              "      background-color: #E2EBFA;\n",
              "      box-shadow: 0px 1px 2px rgba(60, 64, 67, 0.3), 0px 1px 3px 1px rgba(60, 64, 67, 0.15);\n",
              "      fill: #174EA6;\n",
              "    }\n",
              "\n",
              "    [theme=dark] .colab-df-convert {\n",
              "      background-color: #3B4455;\n",
              "      fill: #D2E3FC;\n",
              "    }\n",
              "\n",
              "    [theme=dark] .colab-df-convert:hover {\n",
              "      background-color: #434B5C;\n",
              "      box-shadow: 0px 1px 3px 1px rgba(0, 0, 0, 0.15);\n",
              "      filter: drop-shadow(0px 1px 2px rgba(0, 0, 0, 0.3));\n",
              "      fill: #FFFFFF;\n",
              "    }\n",
              "  </style>\n",
              "\n",
              "      <script>\n",
              "        const buttonEl =\n",
              "          document.querySelector('#df-a01574d6-c1c2-452b-861e-4ca5c252e032 button.colab-df-convert');\n",
              "        buttonEl.style.display =\n",
              "          google.colab.kernel.accessAllowed ? 'block' : 'none';\n",
              "\n",
              "        async function convertToInteractive(key) {\n",
              "          const element = document.querySelector('#df-a01574d6-c1c2-452b-861e-4ca5c252e032');\n",
              "          const dataTable =\n",
              "            await google.colab.kernel.invokeFunction('convertToInteractive',\n",
              "                                                     [key], {});\n",
              "          if (!dataTable) return;\n",
              "\n",
              "          const docLinkHtml = 'Like what you see? Visit the ' +\n",
              "            '<a target=\"_blank\" href=https://colab.research.google.com/notebooks/data_table.ipynb>data table notebook</a>'\n",
              "            + ' to learn more about interactive tables.';\n",
              "          element.innerHTML = '';\n",
              "          dataTable['output_type'] = 'display_data';\n",
              "          await google.colab.output.renderOutput(dataTable, element);\n",
              "          const docLink = document.createElement('div');\n",
              "          docLink.innerHTML = docLinkHtml;\n",
              "          element.appendChild(docLink);\n",
              "        }\n",
              "      </script>\n",
              "    </div>\n",
              "  </div>\n",
              "  "
            ]
          },
          "metadata": {},
          "execution_count": 6
        }
      ],
      "source": [
        "df_train.sample(5)"
      ]
    },
    {
      "cell_type": "markdown",
      "metadata": {
        "id": "TEju-X8on2Ta"
      },
      "source": [
        "# Drop Unwanted Column"
      ]
    },
    {
      "cell_type": "markdown",
      "source": [
        "Make customer_id df for prediction purpose later."
      ],
      "metadata": {
        "id": "hbSyi5kH2Syz"
      }
    },
    {
      "cell_type": "code",
      "execution_count": null,
      "metadata": {
        "id": "L3ZqnUuS8hVT"
      },
      "outputs": [],
      "source": [
        "df_test_cust_id = pd.DataFrame(df_test['customer_id'])"
      ]
    },
    {
      "cell_type": "code",
      "execution_count": null,
      "metadata": {
        "colab": {
          "base_uri": "https://localhost:8080/"
        },
        "id": "mUCt9w-X8o6v",
        "outputId": "7c949927-7bd1-4478-a961-09b4654b2166"
      },
      "outputs": [
        {
          "output_type": "execute_result",
          "data": {
            "text/plain": [
              "pandas.core.frame.DataFrame"
            ]
          },
          "metadata": {},
          "execution_count": 8
        }
      ],
      "source": [
        "type(df_test_cust_id)"
      ]
    },
    {
      "cell_type": "code",
      "execution_count": null,
      "metadata": {
        "colab": {
          "base_uri": "https://localhost:8080/",
          "height": 206
        },
        "id": "NKO6e7y283BH",
        "outputId": "b951bb54-ba9b-4876-a7f1-6b145342052d"
      },
      "outputs": [
        {
          "output_type": "execute_result",
          "data": {
            "text/plain": [
              "   customer_id\n",
              "0            3\n",
              "1           18\n",
              "2           20\n",
              "3           24\n",
              "4           28"
            ],
            "text/html": [
              "\n",
              "  <div id=\"df-7ee7cfb1-3849-437f-940f-8200bda12548\">\n",
              "    <div class=\"colab-df-container\">\n",
              "      <div>\n",
              "<style scoped>\n",
              "    .dataframe tbody tr th:only-of-type {\n",
              "        vertical-align: middle;\n",
              "    }\n",
              "\n",
              "    .dataframe tbody tr th {\n",
              "        vertical-align: top;\n",
              "    }\n",
              "\n",
              "    .dataframe thead th {\n",
              "        text-align: right;\n",
              "    }\n",
              "</style>\n",
              "<table border=\"1\" class=\"dataframe\">\n",
              "  <thead>\n",
              "    <tr style=\"text-align: right;\">\n",
              "      <th></th>\n",
              "      <th>customer_id</th>\n",
              "    </tr>\n",
              "  </thead>\n",
              "  <tbody>\n",
              "    <tr>\n",
              "      <th>0</th>\n",
              "      <td>3</td>\n",
              "    </tr>\n",
              "    <tr>\n",
              "      <th>1</th>\n",
              "      <td>18</td>\n",
              "    </tr>\n",
              "    <tr>\n",
              "      <th>2</th>\n",
              "      <td>20</td>\n",
              "    </tr>\n",
              "    <tr>\n",
              "      <th>3</th>\n",
              "      <td>24</td>\n",
              "    </tr>\n",
              "    <tr>\n",
              "      <th>4</th>\n",
              "      <td>28</td>\n",
              "    </tr>\n",
              "  </tbody>\n",
              "</table>\n",
              "</div>\n",
              "      <button class=\"colab-df-convert\" onclick=\"convertToInteractive('df-7ee7cfb1-3849-437f-940f-8200bda12548')\"\n",
              "              title=\"Convert this dataframe to an interactive table.\"\n",
              "              style=\"display:none;\">\n",
              "        \n",
              "  <svg xmlns=\"http://www.w3.org/2000/svg\" height=\"24px\"viewBox=\"0 0 24 24\"\n",
              "       width=\"24px\">\n",
              "    <path d=\"M0 0h24v24H0V0z\" fill=\"none\"/>\n",
              "    <path d=\"M18.56 5.44l.94 2.06.94-2.06 2.06-.94-2.06-.94-.94-2.06-.94 2.06-2.06.94zm-11 1L8.5 8.5l.94-2.06 2.06-.94-2.06-.94L8.5 2.5l-.94 2.06-2.06.94zm10 10l.94 2.06.94-2.06 2.06-.94-2.06-.94-.94-2.06-.94 2.06-2.06.94z\"/><path d=\"M17.41 7.96l-1.37-1.37c-.4-.4-.92-.59-1.43-.59-.52 0-1.04.2-1.43.59L10.3 9.45l-7.72 7.72c-.78.78-.78 2.05 0 2.83L4 21.41c.39.39.9.59 1.41.59.51 0 1.02-.2 1.41-.59l7.78-7.78 2.81-2.81c.8-.78.8-2.07 0-2.86zM5.41 20L4 18.59l7.72-7.72 1.47 1.35L5.41 20z\"/>\n",
              "  </svg>\n",
              "      </button>\n",
              "      \n",
              "  <style>\n",
              "    .colab-df-container {\n",
              "      display:flex;\n",
              "      flex-wrap:wrap;\n",
              "      gap: 12px;\n",
              "    }\n",
              "\n",
              "    .colab-df-convert {\n",
              "      background-color: #E8F0FE;\n",
              "      border: none;\n",
              "      border-radius: 50%;\n",
              "      cursor: pointer;\n",
              "      display: none;\n",
              "      fill: #1967D2;\n",
              "      height: 32px;\n",
              "      padding: 0 0 0 0;\n",
              "      width: 32px;\n",
              "    }\n",
              "\n",
              "    .colab-df-convert:hover {\n",
              "      background-color: #E2EBFA;\n",
              "      box-shadow: 0px 1px 2px rgba(60, 64, 67, 0.3), 0px 1px 3px 1px rgba(60, 64, 67, 0.15);\n",
              "      fill: #174EA6;\n",
              "    }\n",
              "\n",
              "    [theme=dark] .colab-df-convert {\n",
              "      background-color: #3B4455;\n",
              "      fill: #D2E3FC;\n",
              "    }\n",
              "\n",
              "    [theme=dark] .colab-df-convert:hover {\n",
              "      background-color: #434B5C;\n",
              "      box-shadow: 0px 1px 3px 1px rgba(0, 0, 0, 0.15);\n",
              "      filter: drop-shadow(0px 1px 2px rgba(0, 0, 0, 0.3));\n",
              "      fill: #FFFFFF;\n",
              "    }\n",
              "  </style>\n",
              "\n",
              "      <script>\n",
              "        const buttonEl =\n",
              "          document.querySelector('#df-7ee7cfb1-3849-437f-940f-8200bda12548 button.colab-df-convert');\n",
              "        buttonEl.style.display =\n",
              "          google.colab.kernel.accessAllowed ? 'block' : 'none';\n",
              "\n",
              "        async function convertToInteractive(key) {\n",
              "          const element = document.querySelector('#df-7ee7cfb1-3849-437f-940f-8200bda12548');\n",
              "          const dataTable =\n",
              "            await google.colab.kernel.invokeFunction('convertToInteractive',\n",
              "                                                     [key], {});\n",
              "          if (!dataTable) return;\n",
              "\n",
              "          const docLinkHtml = 'Like what you see? Visit the ' +\n",
              "            '<a target=\"_blank\" href=https://colab.research.google.com/notebooks/data_table.ipynb>data table notebook</a>'\n",
              "            + ' to learn more about interactive tables.';\n",
              "          element.innerHTML = '';\n",
              "          dataTable['output_type'] = 'display_data';\n",
              "          await google.colab.output.renderOutput(dataTable, element);\n",
              "          const docLink = document.createElement('div');\n",
              "          docLink.innerHTML = docLinkHtml;\n",
              "          element.appendChild(docLink);\n",
              "        }\n",
              "      </script>\n",
              "    </div>\n",
              "  </div>\n",
              "  "
            ]
          },
          "metadata": {},
          "execution_count": 9
        }
      ],
      "source": [
        "df_test_cust_id.head()"
      ]
    },
    {
      "cell_type": "code",
      "execution_count": null,
      "metadata": {
        "id": "gz07FW6sn1qW"
      },
      "outputs": [],
      "source": [
        "df_train.drop(columns=['customer_id'], inplace=True)\n",
        "df_validation.drop(columns=['customer_id'], inplace=True)\n",
        "df_test.drop(columns=['customer_id'], inplace=True)"
      ]
    },
    {
      "cell_type": "code",
      "execution_count": null,
      "metadata": {
        "colab": {
          "base_uri": "https://localhost:8080/"
        },
        "id": "2zM0bzJqrMRV",
        "outputId": "0228ac40-d17e-4c31-c23b-27ffa6866876"
      },
      "outputs": [
        {
          "output_type": "stream",
          "name": "stdout",
          "text": [
            "<class 'pandas.core.frame.DataFrame'>\n",
            "RangeIndex: 144146 entries, 0 to 144145\n",
            "Data columns (total 34 columns):\n",
            " #   Column                          Non-Null Count   Dtype  \n",
            "---  ------                          --------------   -----  \n",
            " 0   customer_age_years              144146 non-null  int64  \n",
            " 1   account_age_months              144146 non-null  int64  \n",
            " 2   gender_female                   144146 non-null  int64  \n",
            " 3   gender_male                     144146 non-null  int64  \n",
            " 4   event_total                     144146 non-null  int64  \n",
            " 5   event_add_promo_total           144146 non-null  int64  \n",
            " 6   event_add_to_cart_total         144146 non-null  int64  \n",
            " 7   event_booking_total             144146 non-null  int64  \n",
            " 8   event_click_total               144146 non-null  int64  \n",
            " 9   event_homepage_total            144146 non-null  float64\n",
            " 10  event_item_detail_total         144146 non-null  int64  \n",
            " 11  event_promo_page_total          144146 non-null  int64  \n",
            " 12  event_scroll_total              144146 non-null  int64  \n",
            " 13  event_search_total              144146 non-null  int64  \n",
            " 14  promo_amount_total              144146 non-null  int64  \n",
            " 15  promo_amount_avg                144146 non-null  float64\n",
            " 16  shipment_fee_total              144146 non-null  int64  \n",
            " 17  shipment_fee_avg                144146 non-null  float64\n",
            " 18  total_amount_product_total      144146 non-null  int64  \n",
            " 19  total_amount_product_avg        144146 non-null  float64\n",
            " 20  shipment_duration_avg           144146 non-null  float64\n",
            " 21  using_promo_total               144146 non-null  int64  \n",
            " 22  payment_creditcard_total        144146 non-null  int64  \n",
            " 23  payment_debitcard_total         144146 non-null  int64  \n",
            " 24  payment_gopay_total             144146 non-null  int64  \n",
            " 25  payment_linkaja_total           144146 non-null  int64  \n",
            " 26  payment_ovo_total               144146 non-null  int64  \n",
            " 27  payment_failed_total            144146 non-null  int64  \n",
            " 28  payment_success_total           144146 non-null  int64  \n",
            " 29  session_duration_minutes_total  144146 non-null  int64  \n",
            " 30  session_duration_minutes_avg    144146 non-null  float64\n",
            " 31  using_mobile_total              144146 non-null  int64  \n",
            " 32  using_web_total                 144146 non-null  int64  \n",
            " 33  transaction_recency_days        144146 non-null  int64  \n",
            "dtypes: float64(6), int64(28)\n",
            "memory usage: 37.4 MB\n",
            "<class 'pandas.core.frame.DataFrame'>\n",
            "RangeIndex: 29152 entries, 0 to 29151\n",
            "Data columns (total 34 columns):\n",
            " #   Column                          Non-Null Count  Dtype  \n",
            "---  ------                          --------------  -----  \n",
            " 0   customer_age_years              29152 non-null  int64  \n",
            " 1   account_age_months              29152 non-null  int64  \n",
            " 2   gender_female                   29152 non-null  int64  \n",
            " 3   gender_male                     29152 non-null  int64  \n",
            " 4   event_total                     29152 non-null  int64  \n",
            " 5   event_add_promo_total           29152 non-null  int64  \n",
            " 6   event_add_to_cart_total         29152 non-null  int64  \n",
            " 7   event_booking_total             29152 non-null  int64  \n",
            " 8   event_click_total               29152 non-null  float64\n",
            " 9   event_homepage_total            29152 non-null  float64\n",
            " 10  event_item_detail_total         29152 non-null  int64  \n",
            " 11  event_promo_page_total          29152 non-null  int64  \n",
            " 12  event_scroll_total              29152 non-null  int64  \n",
            " 13  event_search_total              29152 non-null  int64  \n",
            " 14  promo_amount_total              29152 non-null  int64  \n",
            " 15  promo_amount_avg                29152 non-null  float64\n",
            " 16  shipment_fee_total              29152 non-null  int64  \n",
            " 17  shipment_fee_avg                29152 non-null  float64\n",
            " 18  total_amount_product_total      29152 non-null  int64  \n",
            " 19  total_amount_product_avg        29152 non-null  float64\n",
            " 20  shipment_duration_avg           29152 non-null  float64\n",
            " 21  using_promo_total               29152 non-null  int64  \n",
            " 22  payment_creditcard_total        29152 non-null  int64  \n",
            " 23  payment_debitcard_total         29152 non-null  int64  \n",
            " 24  payment_gopay_total             29152 non-null  int64  \n",
            " 25  payment_linkaja_total           29152 non-null  int64  \n",
            " 26  payment_ovo_total               29152 non-null  int64  \n",
            " 27  payment_failed_total            29152 non-null  int64  \n",
            " 28  payment_success_total           29152 non-null  int64  \n",
            " 29  session_duration_minutes_total  29152 non-null  int64  \n",
            " 30  session_duration_minutes_avg    29152 non-null  float64\n",
            " 31  using_mobile_total              29152 non-null  int64  \n",
            " 32  using_web_total                 29152 non-null  int64  \n",
            " 33  transaction_recency_days        29152 non-null  int64  \n",
            "dtypes: float64(7), int64(27)\n",
            "memory usage: 7.6 MB\n",
            "<class 'pandas.core.frame.DataFrame'>\n",
            "RangeIndex: 18346 entries, 0 to 18345\n",
            "Data columns (total 34 columns):\n",
            " #   Column                          Non-Null Count  Dtype  \n",
            "---  ------                          --------------  -----  \n",
            " 0   customer_age_years              18346 non-null  int64  \n",
            " 1   account_age_months              18346 non-null  int64  \n",
            " 2   gender_female                   18346 non-null  int64  \n",
            " 3   gender_male                     18346 non-null  int64  \n",
            " 4   event_total                     18346 non-null  int64  \n",
            " 5   event_add_promo_total           18346 non-null  int64  \n",
            " 6   event_add_to_cart_total         18346 non-null  int64  \n",
            " 7   event_booking_total             18346 non-null  int64  \n",
            " 8   event_click_total               18346 non-null  float64\n",
            " 9   event_homepage_total            18346 non-null  float64\n",
            " 10  event_item_detail_total         18346 non-null  int64  \n",
            " 11  event_promo_page_total          18346 non-null  int64  \n",
            " 12  event_scroll_total              18346 non-null  int64  \n",
            " 13  event_search_total              18346 non-null  int64  \n",
            " 14  promo_amount_total              18346 non-null  int64  \n",
            " 15  promo_amount_avg                18346 non-null  float64\n",
            " 16  shipment_fee_total              18346 non-null  int64  \n",
            " 17  shipment_fee_avg                18346 non-null  float64\n",
            " 18  total_amount_product_total      18346 non-null  int64  \n",
            " 19  total_amount_product_avg        18346 non-null  float64\n",
            " 20  shipment_duration_avg           18346 non-null  float64\n",
            " 21  using_promo_total               18346 non-null  int64  \n",
            " 22  payment_creditcard_total        18346 non-null  int64  \n",
            " 23  payment_debitcard_total         18346 non-null  int64  \n",
            " 24  payment_gopay_total             18346 non-null  int64  \n",
            " 25  payment_linkaja_total           18346 non-null  int64  \n",
            " 26  payment_ovo_total               18346 non-null  int64  \n",
            " 27  payment_failed_total            18346 non-null  int64  \n",
            " 28  payment_success_total           18346 non-null  int64  \n",
            " 29  session_duration_minutes_total  18346 non-null  int64  \n",
            " 30  session_duration_minutes_avg    18346 non-null  float64\n",
            " 31  using_mobile_total              18346 non-null  int64  \n",
            " 32  using_web_total                 18346 non-null  int64  \n",
            " 33  transaction_recency_days        18346 non-null  int64  \n",
            "dtypes: float64(7), int64(27)\n",
            "memory usage: 4.8 MB\n"
          ]
        }
      ],
      "source": [
        "dfs = [df_train, df_validation, df_test]\n",
        "for i in dfs :\n",
        "  i.info()"
      ]
    },
    {
      "cell_type": "markdown",
      "metadata": {
        "id": "szweSQcbF-Pr"
      },
      "source": [
        "# Data Scalling"
      ]
    },
    {
      "cell_type": "markdown",
      "source": [
        "Separate label from df_train and df_validation so the scaler can also scale the df_test."
      ],
      "metadata": {
        "id": "4Tstal0H3SuE"
      }
    },
    {
      "cell_type": "code",
      "execution_count": null,
      "metadata": {
        "id": "cIPO_MCHxBzP"
      },
      "outputs": [],
      "source": [
        "# separate label from features (train)\n",
        "df_train_label = df_train['is_churn']\n",
        "df_train.drop(columns=['is_churn'], inplace=True)\n",
        "# separate label from features (validation)\n",
        "df_validation_label = df_validation['is_churn']\n",
        "df_validation.drop(columns=['is_churn'], inplace=True)"
      ]
    },
    {
      "cell_type": "code",
      "execution_count": null,
      "metadata": {
        "id": "tJ6D4AslF7XW"
      },
      "outputs": [],
      "source": [
        "# scale dataset (train)\n",
        "from sklearn.preprocessing import MinMaxScaler\n",
        "scaler = MinMaxScaler()\n",
        "scaler.fit(df_train)\n",
        "df_train_scaled = scaler.transform(df_train)\n",
        "df_train_scaled = pd.DataFrame(df_train_scaled, columns= df_train.columns)\n",
        "# scale dataset (validation)\n",
        "df_validation_scaled = scaler.transform(df_validation)\n",
        "df_validation_scaled = pd.DataFrame(df_validation_scaled, columns= df_validation.columns)\n",
        "# scale dataset (test)\n",
        "df_test_scaled = scaler.transform(df_test)\n",
        "df_test_scaled = pd.DataFrame(df_test_scaled, columns= df_test.columns)"
      ]
    },
    {
      "cell_type": "code",
      "execution_count": null,
      "metadata": {
        "colab": {
          "base_uri": "https://localhost:8080/",
          "height": 300
        },
        "id": "PGH450ZQzcN0",
        "outputId": "fefe0d69-e155-47f8-9c86-a5b2fdec7aa9"
      },
      "outputs": [
        {
          "output_type": "execute_result",
          "data": {
            "text/plain": [
              "        customer_age_years  account_age_months  gender_female  gender_male  \\\n",
              "116116            0.241935            0.507246            1.0          0.0   \n",
              "79524             0.209677            0.144928            0.0          1.0   \n",
              "11419             0.225806            0.333333            1.0          0.0   \n",
              "130350            0.322581            0.753623            1.0          0.0   \n",
              "126873            0.403226            0.028986            0.0          1.0   \n",
              "\n",
              "        event_total  event_add_promo_total  event_add_to_cart_total  \\\n",
              "116116     0.009883               0.000000                 0.017241   \n",
              "79524      0.008985               0.037037                 0.008621   \n",
              "11419      0.020665               0.000000                 0.025862   \n",
              "130350     0.017071               0.037037                 0.064655   \n",
              "126873     0.203953               0.148148                 0.081897   \n",
              "\n",
              "        event_booking_total  event_click_total  event_homepage_total  ...  \\\n",
              "116116             0.016393           0.007843              0.004425  ...   \n",
              "79524              0.000000           0.007843              0.002212  ...   \n",
              "11419              0.016393           0.011765              0.011062  ...   \n",
              "130350             0.000000           0.000000              0.004425  ...   \n",
              "126873             0.147541           0.188235              0.086283  ...   \n",
              "\n",
              "        payment_gopay_total  payment_linkaja_total  payment_ovo_total  \\\n",
              "116116                 0.00                    0.0                0.0   \n",
              "79524                  0.00                    0.0                0.0   \n",
              "11419                  0.00                    0.0                0.0   \n",
              "130350                 0.00                    0.0                0.0   \n",
              "126873                 0.25                    0.0                0.0   \n",
              "\n",
              "        payment_failed_total  payment_success_total  \\\n",
              "116116                   0.0               0.032787   \n",
              "79524                    0.0               0.016393   \n",
              "11419                    0.0               0.032787   \n",
              "130350                   0.0               0.016393   \n",
              "126873                   0.0               0.163934   \n",
              "\n",
              "        session_duration_minutes_total  session_duration_minutes_avg  \\\n",
              "116116                        0.143125                      0.071562   \n",
              "79524                         0.171292                      0.171292   \n",
              "11419                         0.340813                      0.170406   \n",
              "130350                        0.758008                      0.758008   \n",
              "126873                        0.209180                      0.020918   \n",
              "\n",
              "        using_mobile_total  using_web_total  transaction_recency_days  \n",
              "116116            0.034483              0.0                  0.274194  \n",
              "79524             0.017241              0.0                  0.467742  \n",
              "11419             0.034483              0.0                  0.225806  \n",
              "130350            0.017241              0.0                  0.169355  \n",
              "126873            0.155172              0.1                  0.040323  \n",
              "\n",
              "[5 rows x 34 columns]"
            ],
            "text/html": [
              "\n",
              "  <div id=\"df-278162c6-0f4e-4cf2-b40d-77467d12e621\">\n",
              "    <div class=\"colab-df-container\">\n",
              "      <div>\n",
              "<style scoped>\n",
              "    .dataframe tbody tr th:only-of-type {\n",
              "        vertical-align: middle;\n",
              "    }\n",
              "\n",
              "    .dataframe tbody tr th {\n",
              "        vertical-align: top;\n",
              "    }\n",
              "\n",
              "    .dataframe thead th {\n",
              "        text-align: right;\n",
              "    }\n",
              "</style>\n",
              "<table border=\"1\" class=\"dataframe\">\n",
              "  <thead>\n",
              "    <tr style=\"text-align: right;\">\n",
              "      <th></th>\n",
              "      <th>customer_age_years</th>\n",
              "      <th>account_age_months</th>\n",
              "      <th>gender_female</th>\n",
              "      <th>gender_male</th>\n",
              "      <th>event_total</th>\n",
              "      <th>event_add_promo_total</th>\n",
              "      <th>event_add_to_cart_total</th>\n",
              "      <th>event_booking_total</th>\n",
              "      <th>event_click_total</th>\n",
              "      <th>event_homepage_total</th>\n",
              "      <th>...</th>\n",
              "      <th>payment_gopay_total</th>\n",
              "      <th>payment_linkaja_total</th>\n",
              "      <th>payment_ovo_total</th>\n",
              "      <th>payment_failed_total</th>\n",
              "      <th>payment_success_total</th>\n",
              "      <th>session_duration_minutes_total</th>\n",
              "      <th>session_duration_minutes_avg</th>\n",
              "      <th>using_mobile_total</th>\n",
              "      <th>using_web_total</th>\n",
              "      <th>transaction_recency_days</th>\n",
              "    </tr>\n",
              "  </thead>\n",
              "  <tbody>\n",
              "    <tr>\n",
              "      <th>116116</th>\n",
              "      <td>0.241935</td>\n",
              "      <td>0.507246</td>\n",
              "      <td>1.0</td>\n",
              "      <td>0.0</td>\n",
              "      <td>0.009883</td>\n",
              "      <td>0.000000</td>\n",
              "      <td>0.017241</td>\n",
              "      <td>0.016393</td>\n",
              "      <td>0.007843</td>\n",
              "      <td>0.004425</td>\n",
              "      <td>...</td>\n",
              "      <td>0.00</td>\n",
              "      <td>0.0</td>\n",
              "      <td>0.0</td>\n",
              "      <td>0.0</td>\n",
              "      <td>0.032787</td>\n",
              "      <td>0.143125</td>\n",
              "      <td>0.071562</td>\n",
              "      <td>0.034483</td>\n",
              "      <td>0.0</td>\n",
              "      <td>0.274194</td>\n",
              "    </tr>\n",
              "    <tr>\n",
              "      <th>79524</th>\n",
              "      <td>0.209677</td>\n",
              "      <td>0.144928</td>\n",
              "      <td>0.0</td>\n",
              "      <td>1.0</td>\n",
              "      <td>0.008985</td>\n",
              "      <td>0.037037</td>\n",
              "      <td>0.008621</td>\n",
              "      <td>0.000000</td>\n",
              "      <td>0.007843</td>\n",
              "      <td>0.002212</td>\n",
              "      <td>...</td>\n",
              "      <td>0.00</td>\n",
              "      <td>0.0</td>\n",
              "      <td>0.0</td>\n",
              "      <td>0.0</td>\n",
              "      <td>0.016393</td>\n",
              "      <td>0.171292</td>\n",
              "      <td>0.171292</td>\n",
              "      <td>0.017241</td>\n",
              "      <td>0.0</td>\n",
              "      <td>0.467742</td>\n",
              "    </tr>\n",
              "    <tr>\n",
              "      <th>11419</th>\n",
              "      <td>0.225806</td>\n",
              "      <td>0.333333</td>\n",
              "      <td>1.0</td>\n",
              "      <td>0.0</td>\n",
              "      <td>0.020665</td>\n",
              "      <td>0.000000</td>\n",
              "      <td>0.025862</td>\n",
              "      <td>0.016393</td>\n",
              "      <td>0.011765</td>\n",
              "      <td>0.011062</td>\n",
              "      <td>...</td>\n",
              "      <td>0.00</td>\n",
              "      <td>0.0</td>\n",
              "      <td>0.0</td>\n",
              "      <td>0.0</td>\n",
              "      <td>0.032787</td>\n",
              "      <td>0.340813</td>\n",
              "      <td>0.170406</td>\n",
              "      <td>0.034483</td>\n",
              "      <td>0.0</td>\n",
              "      <td>0.225806</td>\n",
              "    </tr>\n",
              "    <tr>\n",
              "      <th>130350</th>\n",
              "      <td>0.322581</td>\n",
              "      <td>0.753623</td>\n",
              "      <td>1.0</td>\n",
              "      <td>0.0</td>\n",
              "      <td>0.017071</td>\n",
              "      <td>0.037037</td>\n",
              "      <td>0.064655</td>\n",
              "      <td>0.000000</td>\n",
              "      <td>0.000000</td>\n",
              "      <td>0.004425</td>\n",
              "      <td>...</td>\n",
              "      <td>0.00</td>\n",
              "      <td>0.0</td>\n",
              "      <td>0.0</td>\n",
              "      <td>0.0</td>\n",
              "      <td>0.016393</td>\n",
              "      <td>0.758008</td>\n",
              "      <td>0.758008</td>\n",
              "      <td>0.017241</td>\n",
              "      <td>0.0</td>\n",
              "      <td>0.169355</td>\n",
              "    </tr>\n",
              "    <tr>\n",
              "      <th>126873</th>\n",
              "      <td>0.403226</td>\n",
              "      <td>0.028986</td>\n",
              "      <td>0.0</td>\n",
              "      <td>1.0</td>\n",
              "      <td>0.203953</td>\n",
              "      <td>0.148148</td>\n",
              "      <td>0.081897</td>\n",
              "      <td>0.147541</td>\n",
              "      <td>0.188235</td>\n",
              "      <td>0.086283</td>\n",
              "      <td>...</td>\n",
              "      <td>0.25</td>\n",
              "      <td>0.0</td>\n",
              "      <td>0.0</td>\n",
              "      <td>0.0</td>\n",
              "      <td>0.163934</td>\n",
              "      <td>0.209180</td>\n",
              "      <td>0.020918</td>\n",
              "      <td>0.155172</td>\n",
              "      <td>0.1</td>\n",
              "      <td>0.040323</td>\n",
              "    </tr>\n",
              "  </tbody>\n",
              "</table>\n",
              "<p>5 rows × 34 columns</p>\n",
              "</div>\n",
              "      <button class=\"colab-df-convert\" onclick=\"convertToInteractive('df-278162c6-0f4e-4cf2-b40d-77467d12e621')\"\n",
              "              title=\"Convert this dataframe to an interactive table.\"\n",
              "              style=\"display:none;\">\n",
              "        \n",
              "  <svg xmlns=\"http://www.w3.org/2000/svg\" height=\"24px\"viewBox=\"0 0 24 24\"\n",
              "       width=\"24px\">\n",
              "    <path d=\"M0 0h24v24H0V0z\" fill=\"none\"/>\n",
              "    <path d=\"M18.56 5.44l.94 2.06.94-2.06 2.06-.94-2.06-.94-.94-2.06-.94 2.06-2.06.94zm-11 1L8.5 8.5l.94-2.06 2.06-.94-2.06-.94L8.5 2.5l-.94 2.06-2.06.94zm10 10l.94 2.06.94-2.06 2.06-.94-2.06-.94-.94-2.06-.94 2.06-2.06.94z\"/><path d=\"M17.41 7.96l-1.37-1.37c-.4-.4-.92-.59-1.43-.59-.52 0-1.04.2-1.43.59L10.3 9.45l-7.72 7.72c-.78.78-.78 2.05 0 2.83L4 21.41c.39.39.9.59 1.41.59.51 0 1.02-.2 1.41-.59l7.78-7.78 2.81-2.81c.8-.78.8-2.07 0-2.86zM5.41 20L4 18.59l7.72-7.72 1.47 1.35L5.41 20z\"/>\n",
              "  </svg>\n",
              "      </button>\n",
              "      \n",
              "  <style>\n",
              "    .colab-df-container {\n",
              "      display:flex;\n",
              "      flex-wrap:wrap;\n",
              "      gap: 12px;\n",
              "    }\n",
              "\n",
              "    .colab-df-convert {\n",
              "      background-color: #E8F0FE;\n",
              "      border: none;\n",
              "      border-radius: 50%;\n",
              "      cursor: pointer;\n",
              "      display: none;\n",
              "      fill: #1967D2;\n",
              "      height: 32px;\n",
              "      padding: 0 0 0 0;\n",
              "      width: 32px;\n",
              "    }\n",
              "\n",
              "    .colab-df-convert:hover {\n",
              "      background-color: #E2EBFA;\n",
              "      box-shadow: 0px 1px 2px rgba(60, 64, 67, 0.3), 0px 1px 3px 1px rgba(60, 64, 67, 0.15);\n",
              "      fill: #174EA6;\n",
              "    }\n",
              "\n",
              "    [theme=dark] .colab-df-convert {\n",
              "      background-color: #3B4455;\n",
              "      fill: #D2E3FC;\n",
              "    }\n",
              "\n",
              "    [theme=dark] .colab-df-convert:hover {\n",
              "      background-color: #434B5C;\n",
              "      box-shadow: 0px 1px 3px 1px rgba(0, 0, 0, 0.15);\n",
              "      filter: drop-shadow(0px 1px 2px rgba(0, 0, 0, 0.3));\n",
              "      fill: #FFFFFF;\n",
              "    }\n",
              "  </style>\n",
              "\n",
              "      <script>\n",
              "        const buttonEl =\n",
              "          document.querySelector('#df-278162c6-0f4e-4cf2-b40d-77467d12e621 button.colab-df-convert');\n",
              "        buttonEl.style.display =\n",
              "          google.colab.kernel.accessAllowed ? 'block' : 'none';\n",
              "\n",
              "        async function convertToInteractive(key) {\n",
              "          const element = document.querySelector('#df-278162c6-0f4e-4cf2-b40d-77467d12e621');\n",
              "          const dataTable =\n",
              "            await google.colab.kernel.invokeFunction('convertToInteractive',\n",
              "                                                     [key], {});\n",
              "          if (!dataTable) return;\n",
              "\n",
              "          const docLinkHtml = 'Like what you see? Visit the ' +\n",
              "            '<a target=\"_blank\" href=https://colab.research.google.com/notebooks/data_table.ipynb>data table notebook</a>'\n",
              "            + ' to learn more about interactive tables.';\n",
              "          element.innerHTML = '';\n",
              "          dataTable['output_type'] = 'display_data';\n",
              "          await google.colab.output.renderOutput(dataTable, element);\n",
              "          const docLink = document.createElement('div');\n",
              "          docLink.innerHTML = docLinkHtml;\n",
              "          element.appendChild(docLink);\n",
              "        }\n",
              "      </script>\n",
              "    </div>\n",
              "  </div>\n",
              "  "
            ]
          },
          "metadata": {},
          "execution_count": 16
        }
      ],
      "source": [
        "df_train_scaled.sample(5)"
      ]
    },
    {
      "cell_type": "code",
      "execution_count": null,
      "metadata": {
        "colab": {
          "base_uri": "https://localhost:8080/",
          "height": 300
        },
        "id": "eFesBxNwzIHe",
        "outputId": "2f6646b0-befe-417e-d9f3-e059b5c0f064"
      },
      "outputs": [
        {
          "output_type": "execute_result",
          "data": {
            "text/plain": [
              "       customer_age_years  account_age_months  gender_female  gender_male  \\\n",
              "18062            0.338710            0.304348            1.0          0.0   \n",
              "26107            0.370968            0.101449            1.0          0.0   \n",
              "9558             0.354839            0.028986            1.0          0.0   \n",
              "5263             0.258065            0.260870            0.0          1.0   \n",
              "231              0.306452            0.072464            1.0          0.0   \n",
              "\n",
              "       event_total  event_add_promo_total  event_add_to_cart_total  \\\n",
              "18062     0.000898               0.000000                 0.000000   \n",
              "26107     0.004492               0.037037                 0.004310   \n",
              "9558      0.024259               0.000000                 0.021552   \n",
              "5263      0.066487               0.037037                 0.017241   \n",
              "231       0.094340               0.000000                 0.047414   \n",
              "\n",
              "       event_booking_total  event_click_total  event_homepage_total  ...  \\\n",
              "18062             0.000000           0.000000              0.000000  ...   \n",
              "26107             0.016393           0.000000              0.002212  ...   \n",
              "9558              0.016393           0.023529              0.013274  ...   \n",
              "5263              0.065574           0.062745              0.022124  ...   \n",
              "231               0.114754           0.086275              0.048673  ...   \n",
              "\n",
              "       payment_gopay_total  payment_linkaja_total  payment_ovo_total  \\\n",
              "18062                  0.0               0.000000           0.000000   \n",
              "26107                  0.0               0.000000           0.000000   \n",
              "9558                   0.0               0.000000           0.000000   \n",
              "5263                   0.0               0.037037           0.086957   \n",
              "231                    0.0               0.037037           0.000000   \n",
              "\n",
              "       payment_failed_total  payment_success_total  \\\n",
              "18062                   0.0               0.016393   \n",
              "26107                   0.0               0.032787   \n",
              "9558                    0.0               0.032787   \n",
              "5263                    0.0               0.081967   \n",
              "231                     0.0               0.131148   \n",
              "\n",
              "       session_duration_minutes_total  session_duration_minutes_avg  \\\n",
              "18062                        0.181296                      0.181296   \n",
              "26107                        0.019531                      0.009766   \n",
              "9558                         0.008982                      0.004491   \n",
              "5263                         0.406788                      0.081358   \n",
              "231                          0.316484                      0.039560   \n",
              "\n",
              "       using_mobile_total  using_web_total  transaction_recency_days  \n",
              "18062            0.017241              0.0                  0.766129  \n",
              "26107            0.017241              0.1                  0.451613  \n",
              "9558             0.034483              0.0                  0.467742  \n",
              "5263             0.086207              0.0                  0.112903  \n",
              "231              0.120690              0.1                  0.080645  \n",
              "\n",
              "[5 rows x 34 columns]"
            ],
            "text/html": [
              "\n",
              "  <div id=\"df-fe55fae2-6b14-4d60-8c07-8f27787bbc19\">\n",
              "    <div class=\"colab-df-container\">\n",
              "      <div>\n",
              "<style scoped>\n",
              "    .dataframe tbody tr th:only-of-type {\n",
              "        vertical-align: middle;\n",
              "    }\n",
              "\n",
              "    .dataframe tbody tr th {\n",
              "        vertical-align: top;\n",
              "    }\n",
              "\n",
              "    .dataframe thead th {\n",
              "        text-align: right;\n",
              "    }\n",
              "</style>\n",
              "<table border=\"1\" class=\"dataframe\">\n",
              "  <thead>\n",
              "    <tr style=\"text-align: right;\">\n",
              "      <th></th>\n",
              "      <th>customer_age_years</th>\n",
              "      <th>account_age_months</th>\n",
              "      <th>gender_female</th>\n",
              "      <th>gender_male</th>\n",
              "      <th>event_total</th>\n",
              "      <th>event_add_promo_total</th>\n",
              "      <th>event_add_to_cart_total</th>\n",
              "      <th>event_booking_total</th>\n",
              "      <th>event_click_total</th>\n",
              "      <th>event_homepage_total</th>\n",
              "      <th>...</th>\n",
              "      <th>payment_gopay_total</th>\n",
              "      <th>payment_linkaja_total</th>\n",
              "      <th>payment_ovo_total</th>\n",
              "      <th>payment_failed_total</th>\n",
              "      <th>payment_success_total</th>\n",
              "      <th>session_duration_minutes_total</th>\n",
              "      <th>session_duration_minutes_avg</th>\n",
              "      <th>using_mobile_total</th>\n",
              "      <th>using_web_total</th>\n",
              "      <th>transaction_recency_days</th>\n",
              "    </tr>\n",
              "  </thead>\n",
              "  <tbody>\n",
              "    <tr>\n",
              "      <th>18062</th>\n",
              "      <td>0.338710</td>\n",
              "      <td>0.304348</td>\n",
              "      <td>1.0</td>\n",
              "      <td>0.0</td>\n",
              "      <td>0.000898</td>\n",
              "      <td>0.000000</td>\n",
              "      <td>0.000000</td>\n",
              "      <td>0.000000</td>\n",
              "      <td>0.000000</td>\n",
              "      <td>0.000000</td>\n",
              "      <td>...</td>\n",
              "      <td>0.0</td>\n",
              "      <td>0.000000</td>\n",
              "      <td>0.000000</td>\n",
              "      <td>0.0</td>\n",
              "      <td>0.016393</td>\n",
              "      <td>0.181296</td>\n",
              "      <td>0.181296</td>\n",
              "      <td>0.017241</td>\n",
              "      <td>0.0</td>\n",
              "      <td>0.766129</td>\n",
              "    </tr>\n",
              "    <tr>\n",
              "      <th>26107</th>\n",
              "      <td>0.370968</td>\n",
              "      <td>0.101449</td>\n",
              "      <td>1.0</td>\n",
              "      <td>0.0</td>\n",
              "      <td>0.004492</td>\n",
              "      <td>0.037037</td>\n",
              "      <td>0.004310</td>\n",
              "      <td>0.016393</td>\n",
              "      <td>0.000000</td>\n",
              "      <td>0.002212</td>\n",
              "      <td>...</td>\n",
              "      <td>0.0</td>\n",
              "      <td>0.000000</td>\n",
              "      <td>0.000000</td>\n",
              "      <td>0.0</td>\n",
              "      <td>0.032787</td>\n",
              "      <td>0.019531</td>\n",
              "      <td>0.009766</td>\n",
              "      <td>0.017241</td>\n",
              "      <td>0.1</td>\n",
              "      <td>0.451613</td>\n",
              "    </tr>\n",
              "    <tr>\n",
              "      <th>9558</th>\n",
              "      <td>0.354839</td>\n",
              "      <td>0.028986</td>\n",
              "      <td>1.0</td>\n",
              "      <td>0.0</td>\n",
              "      <td>0.024259</td>\n",
              "      <td>0.000000</td>\n",
              "      <td>0.021552</td>\n",
              "      <td>0.016393</td>\n",
              "      <td>0.023529</td>\n",
              "      <td>0.013274</td>\n",
              "      <td>...</td>\n",
              "      <td>0.0</td>\n",
              "      <td>0.000000</td>\n",
              "      <td>0.000000</td>\n",
              "      <td>0.0</td>\n",
              "      <td>0.032787</td>\n",
              "      <td>0.008982</td>\n",
              "      <td>0.004491</td>\n",
              "      <td>0.034483</td>\n",
              "      <td>0.0</td>\n",
              "      <td>0.467742</td>\n",
              "    </tr>\n",
              "    <tr>\n",
              "      <th>5263</th>\n",
              "      <td>0.258065</td>\n",
              "      <td>0.260870</td>\n",
              "      <td>0.0</td>\n",
              "      <td>1.0</td>\n",
              "      <td>0.066487</td>\n",
              "      <td>0.037037</td>\n",
              "      <td>0.017241</td>\n",
              "      <td>0.065574</td>\n",
              "      <td>0.062745</td>\n",
              "      <td>0.022124</td>\n",
              "      <td>...</td>\n",
              "      <td>0.0</td>\n",
              "      <td>0.037037</td>\n",
              "      <td>0.086957</td>\n",
              "      <td>0.0</td>\n",
              "      <td>0.081967</td>\n",
              "      <td>0.406788</td>\n",
              "      <td>0.081358</td>\n",
              "      <td>0.086207</td>\n",
              "      <td>0.0</td>\n",
              "      <td>0.112903</td>\n",
              "    </tr>\n",
              "    <tr>\n",
              "      <th>231</th>\n",
              "      <td>0.306452</td>\n",
              "      <td>0.072464</td>\n",
              "      <td>1.0</td>\n",
              "      <td>0.0</td>\n",
              "      <td>0.094340</td>\n",
              "      <td>0.000000</td>\n",
              "      <td>0.047414</td>\n",
              "      <td>0.114754</td>\n",
              "      <td>0.086275</td>\n",
              "      <td>0.048673</td>\n",
              "      <td>...</td>\n",
              "      <td>0.0</td>\n",
              "      <td>0.037037</td>\n",
              "      <td>0.000000</td>\n",
              "      <td>0.0</td>\n",
              "      <td>0.131148</td>\n",
              "      <td>0.316484</td>\n",
              "      <td>0.039560</td>\n",
              "      <td>0.120690</td>\n",
              "      <td>0.1</td>\n",
              "      <td>0.080645</td>\n",
              "    </tr>\n",
              "  </tbody>\n",
              "</table>\n",
              "<p>5 rows × 34 columns</p>\n",
              "</div>\n",
              "      <button class=\"colab-df-convert\" onclick=\"convertToInteractive('df-fe55fae2-6b14-4d60-8c07-8f27787bbc19')\"\n",
              "              title=\"Convert this dataframe to an interactive table.\"\n",
              "              style=\"display:none;\">\n",
              "        \n",
              "  <svg xmlns=\"http://www.w3.org/2000/svg\" height=\"24px\"viewBox=\"0 0 24 24\"\n",
              "       width=\"24px\">\n",
              "    <path d=\"M0 0h24v24H0V0z\" fill=\"none\"/>\n",
              "    <path d=\"M18.56 5.44l.94 2.06.94-2.06 2.06-.94-2.06-.94-.94-2.06-.94 2.06-2.06.94zm-11 1L8.5 8.5l.94-2.06 2.06-.94-2.06-.94L8.5 2.5l-.94 2.06-2.06.94zm10 10l.94 2.06.94-2.06 2.06-.94-2.06-.94-.94-2.06-.94 2.06-2.06.94z\"/><path d=\"M17.41 7.96l-1.37-1.37c-.4-.4-.92-.59-1.43-.59-.52 0-1.04.2-1.43.59L10.3 9.45l-7.72 7.72c-.78.78-.78 2.05 0 2.83L4 21.41c.39.39.9.59 1.41.59.51 0 1.02-.2 1.41-.59l7.78-7.78 2.81-2.81c.8-.78.8-2.07 0-2.86zM5.41 20L4 18.59l7.72-7.72 1.47 1.35L5.41 20z\"/>\n",
              "  </svg>\n",
              "      </button>\n",
              "      \n",
              "  <style>\n",
              "    .colab-df-container {\n",
              "      display:flex;\n",
              "      flex-wrap:wrap;\n",
              "      gap: 12px;\n",
              "    }\n",
              "\n",
              "    .colab-df-convert {\n",
              "      background-color: #E8F0FE;\n",
              "      border: none;\n",
              "      border-radius: 50%;\n",
              "      cursor: pointer;\n",
              "      display: none;\n",
              "      fill: #1967D2;\n",
              "      height: 32px;\n",
              "      padding: 0 0 0 0;\n",
              "      width: 32px;\n",
              "    }\n",
              "\n",
              "    .colab-df-convert:hover {\n",
              "      background-color: #E2EBFA;\n",
              "      box-shadow: 0px 1px 2px rgba(60, 64, 67, 0.3), 0px 1px 3px 1px rgba(60, 64, 67, 0.15);\n",
              "      fill: #174EA6;\n",
              "    }\n",
              "\n",
              "    [theme=dark] .colab-df-convert {\n",
              "      background-color: #3B4455;\n",
              "      fill: #D2E3FC;\n",
              "    }\n",
              "\n",
              "    [theme=dark] .colab-df-convert:hover {\n",
              "      background-color: #434B5C;\n",
              "      box-shadow: 0px 1px 3px 1px rgba(0, 0, 0, 0.15);\n",
              "      filter: drop-shadow(0px 1px 2px rgba(0, 0, 0, 0.3));\n",
              "      fill: #FFFFFF;\n",
              "    }\n",
              "  </style>\n",
              "\n",
              "      <script>\n",
              "        const buttonEl =\n",
              "          document.querySelector('#df-fe55fae2-6b14-4d60-8c07-8f27787bbc19 button.colab-df-convert');\n",
              "        buttonEl.style.display =\n",
              "          google.colab.kernel.accessAllowed ? 'block' : 'none';\n",
              "\n",
              "        async function convertToInteractive(key) {\n",
              "          const element = document.querySelector('#df-fe55fae2-6b14-4d60-8c07-8f27787bbc19');\n",
              "          const dataTable =\n",
              "            await google.colab.kernel.invokeFunction('convertToInteractive',\n",
              "                                                     [key], {});\n",
              "          if (!dataTable) return;\n",
              "\n",
              "          const docLinkHtml = 'Like what you see? Visit the ' +\n",
              "            '<a target=\"_blank\" href=https://colab.research.google.com/notebooks/data_table.ipynb>data table notebook</a>'\n",
              "            + ' to learn more about interactive tables.';\n",
              "          element.innerHTML = '';\n",
              "          dataTable['output_type'] = 'display_data';\n",
              "          await google.colab.output.renderOutput(dataTable, element);\n",
              "          const docLink = document.createElement('div');\n",
              "          docLink.innerHTML = docLinkHtml;\n",
              "          element.appendChild(docLink);\n",
              "        }\n",
              "      </script>\n",
              "    </div>\n",
              "  </div>\n",
              "  "
            ]
          },
          "metadata": {},
          "execution_count": 17
        }
      ],
      "source": [
        "df_validation_scaled.sample(5)"
      ]
    },
    {
      "cell_type": "code",
      "execution_count": null,
      "metadata": {
        "colab": {
          "base_uri": "https://localhost:8080/",
          "height": 300
        },
        "id": "JcI3Ca_tze2a",
        "outputId": "c2d4374a-496a-43f3-e083-36d8393463e4"
      },
      "outputs": [
        {
          "output_type": "execute_result",
          "data": {
            "text/plain": [
              "       customer_age_years  account_age_months  gender_female  gender_male  \\\n",
              "8082             0.370968            0.115942            0.0          1.0   \n",
              "3707             0.387097            0.768116            0.0          1.0   \n",
              "11239            0.290323            0.028986            0.0          1.0   \n",
              "9986             0.225806            0.637681            0.0          1.0   \n",
              "7235             0.258065            0.391304            1.0          0.0   \n",
              "\n",
              "       event_total  event_add_promo_total  event_add_to_cart_total  \\\n",
              "8082      0.004492               0.000000                 0.004310   \n",
              "3707      0.021563               0.074074                 0.008621   \n",
              "11239     0.010782               0.000000                 0.008621   \n",
              "9986      0.011680               0.000000                 0.008621   \n",
              "7235      0.013477               0.000000                 0.004310   \n",
              "\n",
              "       event_booking_total  event_click_total  event_homepage_total  ...  \\\n",
              "8082              0.000000           0.003922              0.002212  ...   \n",
              "3707              0.016393           0.011765              0.008850  ...   \n",
              "11239             0.000000           0.015686              0.004425  ...   \n",
              "9986              0.016393           0.011765              0.004425  ...   \n",
              "7235              0.000000           0.015686              0.002212  ...   \n",
              "\n",
              "       payment_gopay_total  payment_linkaja_total  payment_ovo_total  \\\n",
              "8082                 0.000                    0.0           0.000000   \n",
              "3707                 0.000                    0.0           0.000000   \n",
              "11239                0.000                    0.0           0.000000   \n",
              "9986                 0.000                    0.0           0.043478   \n",
              "7235                 0.025                    0.0           0.000000   \n",
              "\n",
              "       payment_failed_total  payment_success_total  \\\n",
              "8082                    0.0               0.016393   \n",
              "3707                    0.0               0.032787   \n",
              "11239                   0.0               0.016393   \n",
              "9986                    0.0               0.032787   \n",
              "7235                    0.0               0.016393   \n",
              "\n",
              "       session_duration_minutes_total  session_duration_minutes_avg  \\\n",
              "8082                         0.158500                      0.158500   \n",
              "3707                         0.058566                      0.029283   \n",
              "11239                        0.005661                      0.005661   \n",
              "9986                         0.267615                      0.133808   \n",
              "7235                         0.073572                      0.073572   \n",
              "\n",
              "       using_mobile_total  using_web_total  transaction_recency_days  \n",
              "8082             0.017241              0.0                 -0.137097  \n",
              "3707             0.034483              0.0                 -0.435484  \n",
              "11239            0.017241              0.0                 -0.177419  \n",
              "9986             0.034483              0.0                 -0.346774  \n",
              "7235             0.017241              0.0                 -0.233871  \n",
              "\n",
              "[5 rows x 34 columns]"
            ],
            "text/html": [
              "\n",
              "  <div id=\"df-dc60763d-6a17-4305-ad52-da00d42e0ff8\">\n",
              "    <div class=\"colab-df-container\">\n",
              "      <div>\n",
              "<style scoped>\n",
              "    .dataframe tbody tr th:only-of-type {\n",
              "        vertical-align: middle;\n",
              "    }\n",
              "\n",
              "    .dataframe tbody tr th {\n",
              "        vertical-align: top;\n",
              "    }\n",
              "\n",
              "    .dataframe thead th {\n",
              "        text-align: right;\n",
              "    }\n",
              "</style>\n",
              "<table border=\"1\" class=\"dataframe\">\n",
              "  <thead>\n",
              "    <tr style=\"text-align: right;\">\n",
              "      <th></th>\n",
              "      <th>customer_age_years</th>\n",
              "      <th>account_age_months</th>\n",
              "      <th>gender_female</th>\n",
              "      <th>gender_male</th>\n",
              "      <th>event_total</th>\n",
              "      <th>event_add_promo_total</th>\n",
              "      <th>event_add_to_cart_total</th>\n",
              "      <th>event_booking_total</th>\n",
              "      <th>event_click_total</th>\n",
              "      <th>event_homepage_total</th>\n",
              "      <th>...</th>\n",
              "      <th>payment_gopay_total</th>\n",
              "      <th>payment_linkaja_total</th>\n",
              "      <th>payment_ovo_total</th>\n",
              "      <th>payment_failed_total</th>\n",
              "      <th>payment_success_total</th>\n",
              "      <th>session_duration_minutes_total</th>\n",
              "      <th>session_duration_minutes_avg</th>\n",
              "      <th>using_mobile_total</th>\n",
              "      <th>using_web_total</th>\n",
              "      <th>transaction_recency_days</th>\n",
              "    </tr>\n",
              "  </thead>\n",
              "  <tbody>\n",
              "    <tr>\n",
              "      <th>8082</th>\n",
              "      <td>0.370968</td>\n",
              "      <td>0.115942</td>\n",
              "      <td>0.0</td>\n",
              "      <td>1.0</td>\n",
              "      <td>0.004492</td>\n",
              "      <td>0.000000</td>\n",
              "      <td>0.004310</td>\n",
              "      <td>0.000000</td>\n",
              "      <td>0.003922</td>\n",
              "      <td>0.002212</td>\n",
              "      <td>...</td>\n",
              "      <td>0.000</td>\n",
              "      <td>0.0</td>\n",
              "      <td>0.000000</td>\n",
              "      <td>0.0</td>\n",
              "      <td>0.016393</td>\n",
              "      <td>0.158500</td>\n",
              "      <td>0.158500</td>\n",
              "      <td>0.017241</td>\n",
              "      <td>0.0</td>\n",
              "      <td>-0.137097</td>\n",
              "    </tr>\n",
              "    <tr>\n",
              "      <th>3707</th>\n",
              "      <td>0.387097</td>\n",
              "      <td>0.768116</td>\n",
              "      <td>0.0</td>\n",
              "      <td>1.0</td>\n",
              "      <td>0.021563</td>\n",
              "      <td>0.074074</td>\n",
              "      <td>0.008621</td>\n",
              "      <td>0.016393</td>\n",
              "      <td>0.011765</td>\n",
              "      <td>0.008850</td>\n",
              "      <td>...</td>\n",
              "      <td>0.000</td>\n",
              "      <td>0.0</td>\n",
              "      <td>0.000000</td>\n",
              "      <td>0.0</td>\n",
              "      <td>0.032787</td>\n",
              "      <td>0.058566</td>\n",
              "      <td>0.029283</td>\n",
              "      <td>0.034483</td>\n",
              "      <td>0.0</td>\n",
              "      <td>-0.435484</td>\n",
              "    </tr>\n",
              "    <tr>\n",
              "      <th>11239</th>\n",
              "      <td>0.290323</td>\n",
              "      <td>0.028986</td>\n",
              "      <td>0.0</td>\n",
              "      <td>1.0</td>\n",
              "      <td>0.010782</td>\n",
              "      <td>0.000000</td>\n",
              "      <td>0.008621</td>\n",
              "      <td>0.000000</td>\n",
              "      <td>0.015686</td>\n",
              "      <td>0.004425</td>\n",
              "      <td>...</td>\n",
              "      <td>0.000</td>\n",
              "      <td>0.0</td>\n",
              "      <td>0.000000</td>\n",
              "      <td>0.0</td>\n",
              "      <td>0.016393</td>\n",
              "      <td>0.005661</td>\n",
              "      <td>0.005661</td>\n",
              "      <td>0.017241</td>\n",
              "      <td>0.0</td>\n",
              "      <td>-0.177419</td>\n",
              "    </tr>\n",
              "    <tr>\n",
              "      <th>9986</th>\n",
              "      <td>0.225806</td>\n",
              "      <td>0.637681</td>\n",
              "      <td>0.0</td>\n",
              "      <td>1.0</td>\n",
              "      <td>0.011680</td>\n",
              "      <td>0.000000</td>\n",
              "      <td>0.008621</td>\n",
              "      <td>0.016393</td>\n",
              "      <td>0.011765</td>\n",
              "      <td>0.004425</td>\n",
              "      <td>...</td>\n",
              "      <td>0.000</td>\n",
              "      <td>0.0</td>\n",
              "      <td>0.043478</td>\n",
              "      <td>0.0</td>\n",
              "      <td>0.032787</td>\n",
              "      <td>0.267615</td>\n",
              "      <td>0.133808</td>\n",
              "      <td>0.034483</td>\n",
              "      <td>0.0</td>\n",
              "      <td>-0.346774</td>\n",
              "    </tr>\n",
              "    <tr>\n",
              "      <th>7235</th>\n",
              "      <td>0.258065</td>\n",
              "      <td>0.391304</td>\n",
              "      <td>1.0</td>\n",
              "      <td>0.0</td>\n",
              "      <td>0.013477</td>\n",
              "      <td>0.000000</td>\n",
              "      <td>0.004310</td>\n",
              "      <td>0.000000</td>\n",
              "      <td>0.015686</td>\n",
              "      <td>0.002212</td>\n",
              "      <td>...</td>\n",
              "      <td>0.025</td>\n",
              "      <td>0.0</td>\n",
              "      <td>0.000000</td>\n",
              "      <td>0.0</td>\n",
              "      <td>0.016393</td>\n",
              "      <td>0.073572</td>\n",
              "      <td>0.073572</td>\n",
              "      <td>0.017241</td>\n",
              "      <td>0.0</td>\n",
              "      <td>-0.233871</td>\n",
              "    </tr>\n",
              "  </tbody>\n",
              "</table>\n",
              "<p>5 rows × 34 columns</p>\n",
              "</div>\n",
              "      <button class=\"colab-df-convert\" onclick=\"convertToInteractive('df-dc60763d-6a17-4305-ad52-da00d42e0ff8')\"\n",
              "              title=\"Convert this dataframe to an interactive table.\"\n",
              "              style=\"display:none;\">\n",
              "        \n",
              "  <svg xmlns=\"http://www.w3.org/2000/svg\" height=\"24px\"viewBox=\"0 0 24 24\"\n",
              "       width=\"24px\">\n",
              "    <path d=\"M0 0h24v24H0V0z\" fill=\"none\"/>\n",
              "    <path d=\"M18.56 5.44l.94 2.06.94-2.06 2.06-.94-2.06-.94-.94-2.06-.94 2.06-2.06.94zm-11 1L8.5 8.5l.94-2.06 2.06-.94-2.06-.94L8.5 2.5l-.94 2.06-2.06.94zm10 10l.94 2.06.94-2.06 2.06-.94-2.06-.94-.94-2.06-.94 2.06-2.06.94z\"/><path d=\"M17.41 7.96l-1.37-1.37c-.4-.4-.92-.59-1.43-.59-.52 0-1.04.2-1.43.59L10.3 9.45l-7.72 7.72c-.78.78-.78 2.05 0 2.83L4 21.41c.39.39.9.59 1.41.59.51 0 1.02-.2 1.41-.59l7.78-7.78 2.81-2.81c.8-.78.8-2.07 0-2.86zM5.41 20L4 18.59l7.72-7.72 1.47 1.35L5.41 20z\"/>\n",
              "  </svg>\n",
              "      </button>\n",
              "      \n",
              "  <style>\n",
              "    .colab-df-container {\n",
              "      display:flex;\n",
              "      flex-wrap:wrap;\n",
              "      gap: 12px;\n",
              "    }\n",
              "\n",
              "    .colab-df-convert {\n",
              "      background-color: #E8F0FE;\n",
              "      border: none;\n",
              "      border-radius: 50%;\n",
              "      cursor: pointer;\n",
              "      display: none;\n",
              "      fill: #1967D2;\n",
              "      height: 32px;\n",
              "      padding: 0 0 0 0;\n",
              "      width: 32px;\n",
              "    }\n",
              "\n",
              "    .colab-df-convert:hover {\n",
              "      background-color: #E2EBFA;\n",
              "      box-shadow: 0px 1px 2px rgba(60, 64, 67, 0.3), 0px 1px 3px 1px rgba(60, 64, 67, 0.15);\n",
              "      fill: #174EA6;\n",
              "    }\n",
              "\n",
              "    [theme=dark] .colab-df-convert {\n",
              "      background-color: #3B4455;\n",
              "      fill: #D2E3FC;\n",
              "    }\n",
              "\n",
              "    [theme=dark] .colab-df-convert:hover {\n",
              "      background-color: #434B5C;\n",
              "      box-shadow: 0px 1px 3px 1px rgba(0, 0, 0, 0.15);\n",
              "      filter: drop-shadow(0px 1px 2px rgba(0, 0, 0, 0.3));\n",
              "      fill: #FFFFFF;\n",
              "    }\n",
              "  </style>\n",
              "\n",
              "      <script>\n",
              "        const buttonEl =\n",
              "          document.querySelector('#df-dc60763d-6a17-4305-ad52-da00d42e0ff8 button.colab-df-convert');\n",
              "        buttonEl.style.display =\n",
              "          google.colab.kernel.accessAllowed ? 'block' : 'none';\n",
              "\n",
              "        async function convertToInteractive(key) {\n",
              "          const element = document.querySelector('#df-dc60763d-6a17-4305-ad52-da00d42e0ff8');\n",
              "          const dataTable =\n",
              "            await google.colab.kernel.invokeFunction('convertToInteractive',\n",
              "                                                     [key], {});\n",
              "          if (!dataTable) return;\n",
              "\n",
              "          const docLinkHtml = 'Like what you see? Visit the ' +\n",
              "            '<a target=\"_blank\" href=https://colab.research.google.com/notebooks/data_table.ipynb>data table notebook</a>'\n",
              "            + ' to learn more about interactive tables.';\n",
              "          element.innerHTML = '';\n",
              "          dataTable['output_type'] = 'display_data';\n",
              "          await google.colab.output.renderOutput(dataTable, element);\n",
              "          const docLink = document.createElement('div');\n",
              "          docLink.innerHTML = docLinkHtml;\n",
              "          element.appendChild(docLink);\n",
              "        }\n",
              "      </script>\n",
              "    </div>\n",
              "  </div>\n",
              "  "
            ]
          },
          "metadata": {},
          "execution_count": 18
        }
      ],
      "source": [
        "df_test_scaled.sample(5)"
      ]
    },
    {
      "cell_type": "markdown",
      "metadata": {
        "id": "tM8ssAHsGWAX"
      },
      "source": [
        "# Balancing"
      ]
    },
    {
      "cell_type": "markdown",
      "source": [
        "To make more stable and unbias model, df_train need to be balanced."
      ],
      "metadata": {
        "id": "M9YszGRj3jRT"
      }
    },
    {
      "cell_type": "code",
      "execution_count": null,
      "metadata": {
        "id": "HOt-nGMJG5Bb"
      },
      "outputs": [],
      "source": [
        "X = df_train_scaled\n",
        "y = df_train_label"
      ]
    },
    {
      "cell_type": "code",
      "execution_count": null,
      "metadata": {
        "colab": {
          "base_uri": "https://localhost:8080/",
          "height": 265
        },
        "id": "mhEcVSigztBe",
        "outputId": "49eadd33-f60f-4ae8-9e5a-072be5beb1cc"
      },
      "outputs": [
        {
          "output_type": "execute_result",
          "data": {
            "text/plain": [
              "<matplotlib.axes._subplots.AxesSubplot at 0x7f343cb66430>"
            ]
          },
          "metadata": {},
          "execution_count": 20
        },
        {
          "output_type": "display_data",
          "data": {
            "text/plain": [
              "<Figure size 432x288 with 1 Axes>"
            ],
            "image/png": "[encoded data removed]"
          },
          "metadata": {}
        }
      ],
      "source": [
        "y.value_counts().plot(kind='pie', label= 'is_churn', autopct='%.0f%%')"
      ]
    },
    {
      "cell_type": "code",
      "execution_count": null,
      "metadata": {
        "colab": {
          "base_uri": "https://localhost:8080/"
        },
        "id": "68wHpKCqG6Jx",
        "outputId": "e0f0960b-d93d-4e27-dfcc-f5272194aebc"
      },
      "outputs": [
        {
          "output_type": "stream",
          "name": "stdout",
          "text": [
            "Original dataset shape Counter({0: 100226, 1: 43920})\n",
            "Resampled dataset shape Counter({0: 100226, 1: 100226})\n"
          ]
        }
      ],
      "source": [
        "from collections import Counter\n",
        "from imblearn.over_sampling import SMOTE\n",
        "\n",
        "print('Original dataset shape %s' % Counter(y))\n",
        "\n",
        "sm = SMOTE(random_state=42)\n",
        "X_res, y_res = sm.fit_resample(X, y)\n",
        "print('Resampled dataset shape %s' % Counter(y_res))"
      ]
    },
    {
      "cell_type": "code",
      "execution_count": null,
      "metadata": {
        "colab": {
          "base_uri": "https://localhost:8080/",
          "height": 265
        },
        "id": "j4n4QOGrHSJb",
        "outputId": "e94d0409-404c-42fd-f0ae-780a5010d827"
      },
      "outputs": [
        {
          "output_type": "execute_result",
          "data": {
            "text/plain": [
              "<matplotlib.axes._subplots.AxesSubplot at 0x7f343b749130>"
            ]
          },
          "metadata": {},
          "execution_count": 22
        },
        {
          "output_type": "display_data",
          "data": {
            "text/plain": [
              "<Figure size 432x288 with 1 Axes>"
            ],
            "image/png": "[encoded data removed]"
          },
          "metadata": {}
        }
      ],
      "source": [
        "y_res.value_counts().plot(kind='pie', label= 'is_churn', autopct='%.0f%%')"
      ]
    },
    {
      "cell_type": "code",
      "execution_count": null,
      "metadata": {
        "id": "NCYaAH2NHfPV"
      },
      "outputs": [],
      "source": [
        "# split train dataset\n",
        "from sklearn.model_selection import train_test_split\n",
        "\n",
        "X_train, X_test, y_train, y_test = train_test_split(X_res, y_res, test_size=0.33, random_state=0)"
      ]
    },
    {
      "cell_type": "markdown",
      "metadata": {
        "id": "cpNzDnHhtWaz"
      },
      "source": [
        "# Coba Drop Recency"
      ]
    },
    {
      "cell_type": "markdown",
      "source": [
        "In our invistigation, we found that the recency feature is kinda problematic. We decide that it's better to just drop it."
      ],
      "metadata": {
        "id": "wQUGucM14EFN"
      }
    },
    {
      "cell_type": "code",
      "execution_count": null,
      "metadata": {
        "colab": {
          "base_uri": "https://localhost:8080/"
        },
        "id": "AZdu7n3rvdr6",
        "outputId": "f15b03c9-1104-401f-b247-096fdc55b64c"
      },
      "outputs": [
        {
          "output_type": "stream",
          "name": "stdout",
          "text": [
            "<class 'pandas.core.frame.DataFrame'>\n",
            "RangeIndex: 200452 entries, 0 to 200451\n",
            "Data columns (total 34 columns):\n",
            " #   Column                          Non-Null Count   Dtype  \n",
            "---  ------                          --------------   -----  \n",
            " 0   customer_age_years              200452 non-null  float64\n",
            " 1   account_age_months              200452 non-null  float64\n",
            " 2   gender_female                   200452 non-null  float64\n",
            " 3   gender_male                     200452 non-null  float64\n",
            " 4   event_total                     200452 non-null  float64\n",
            " 5   event_add_promo_total           200452 non-null  float64\n",
            " 6   event_add_to_cart_total         200452 non-null  float64\n",
            " 7   event_booking_total             200452 non-null  float64\n",
            " 8   event_click_total               200452 non-null  float64\n",
            " 9   event_homepage_total            200452 non-null  float64\n",
            " 10  event_item_detail_total         200452 non-null  float64\n",
            " 11  event_promo_page_total          200452 non-null  float64\n",
            " 12  event_scroll_total              200452 non-null  float64\n",
            " 13  event_search_total              200452 non-null  float64\n",
            " 14  promo_amount_total              200452 non-null  float64\n",
            " 15  promo_amount_avg                200452 non-null  float64\n",
            " 16  shipment_fee_total              200452 non-null  float64\n",
            " 17  shipment_fee_avg                200452 non-null  float64\n",
            " 18  total_amount_product_total      200452 non-null  float64\n",
            " 19  total_amount_product_avg        200452 non-null  float64\n",
            " 20  shipment_duration_avg           200452 non-null  float64\n",
            " 21  using_promo_total               200452 non-null  float64\n",
            " 22  payment_creditcard_total        200452 non-null  float64\n",
            " 23  payment_debitcard_total         200452 non-null  float64\n",
            " 24  payment_gopay_total             200452 non-null  float64\n",
            " 25  payment_linkaja_total           200452 non-null  float64\n",
            " 26  payment_ovo_total               200452 non-null  float64\n",
            " 27  payment_failed_total            200452 non-null  float64\n",
            " 28  payment_success_total           200452 non-null  float64\n",
            " 29  session_duration_minutes_total  200452 non-null  float64\n",
            " 30  session_duration_minutes_avg    200452 non-null  float64\n",
            " 31  using_mobile_total              200452 non-null  float64\n",
            " 32  using_web_total                 200452 non-null  float64\n",
            " 33  transaction_recency_days        200452 non-null  float64\n",
            "dtypes: float64(34)\n",
            "memory usage: 52.0 MB\n"
          ]
        }
      ],
      "source": [
        "X_res.info()"
      ]
    },
    {
      "cell_type": "code",
      "execution_count": null,
      "metadata": {
        "id": "IJehMMg-tVx4"
      },
      "outputs": [],
      "source": [
        "X_res_drop_recency = X_res.drop(columns='transaction_recency_days')"
      ]
    },
    {
      "cell_type": "code",
      "execution_count": null,
      "metadata": {
        "colab": {
          "base_uri": "https://localhost:8080/"
        },
        "id": "DnEvmDTqvtA6",
        "outputId": "afa12a84-de68-49a2-a667-008f4e51a3c5"
      },
      "outputs": [
        {
          "output_type": "stream",
          "name": "stdout",
          "text": [
            "<class 'pandas.core.frame.DataFrame'>\n",
            "RangeIndex: 200452 entries, 0 to 200451\n",
            "Data columns (total 33 columns):\n",
            " #   Column                          Non-Null Count   Dtype  \n",
            "---  ------                          --------------   -----  \n",
            " 0   customer_age_years              200452 non-null  float64\n",
            " 1   account_age_months              200452 non-null  float64\n",
            " 2   gender_female                   200452 non-null  float64\n",
            " 3   gender_male                     200452 non-null  float64\n",
            " 4   event_total                     200452 non-null  float64\n",
            " 5   event_add_promo_total           200452 non-null  float64\n",
            " 6   event_add_to_cart_total         200452 non-null  float64\n",
            " 7   event_booking_total             200452 non-null  float64\n",
            " 8   event_click_total               200452 non-null  float64\n",
            " 9   event_homepage_total            200452 non-null  float64\n",
            " 10  event_item_detail_total         200452 non-null  float64\n",
            " 11  event_promo_page_total          200452 non-null  float64\n",
            " 12  event_scroll_total              200452 non-null  float64\n",
            " 13  event_search_total              200452 non-null  float64\n",
            " 14  promo_amount_total              200452 non-null  float64\n",
            " 15  promo_amount_avg                200452 non-null  float64\n",
            " 16  shipment_fee_total              200452 non-null  float64\n",
            " 17  shipment_fee_avg                200452 non-null  float64\n",
            " 18  total_amount_product_total      200452 non-null  float64\n",
            " 19  total_amount_product_avg        200452 non-null  float64\n",
            " 20  shipment_duration_avg           200452 non-null  float64\n",
            " 21  using_promo_total               200452 non-null  float64\n",
            " 22  payment_creditcard_total        200452 non-null  float64\n",
            " 23  payment_debitcard_total         200452 non-null  float64\n",
            " 24  payment_gopay_total             200452 non-null  float64\n",
            " 25  payment_linkaja_total           200452 non-null  float64\n",
            " 26  payment_ovo_total               200452 non-null  float64\n",
            " 27  payment_failed_total            200452 non-null  float64\n",
            " 28  payment_success_total           200452 non-null  float64\n",
            " 29  session_duration_minutes_total  200452 non-null  float64\n",
            " 30  session_duration_minutes_avg    200452 non-null  float64\n",
            " 31  using_mobile_total              200452 non-null  float64\n",
            " 32  using_web_total                 200452 non-null  float64\n",
            "dtypes: float64(33)\n",
            "memory usage: 50.5 MB\n"
          ]
        }
      ],
      "source": [
        "X_res_drop_recency.info()"
      ]
    },
    {
      "cell_type": "code",
      "execution_count": null,
      "metadata": {
        "id": "QJf6JJCav636"
      },
      "outputs": [],
      "source": [
        "# split train dataset\n",
        "from sklearn.model_selection import train_test_split\n",
        "\n",
        "X_train_drop, X_test_drop, y_train_drop, y_test_drop = train_test_split(X_res_drop_recency, y_res, test_size=0.33, random_state=0)"
      ]
    },
    {
      "cell_type": "markdown",
      "source": [
        "# Model Selection"
      ],
      "metadata": {
        "id": "9em8aul64Zeg"
      }
    },
    {
      "cell_type": "code",
      "execution_count": null,
      "metadata": {
        "colab": {
          "base_uri": "https://localhost:8080/"
        },
        "id": "sTPb4CNYaW5t",
        "outputId": "e54ac275-5fe0-4a9c-ef41-57f8dba022de"
      },
      "outputs": [
        {
          "name": "stdout",
          "output_type": "stream",
          "text": [
            "Looking in indexes: https://pypi.org/simple, https://us-python.pkg.dev/colab-wheels/public/simple/\n",
            "Collecting catboost\n",
            "  Downloading catboost-1.1.1-cp38-none-manylinux1_x86_64.whl (76.6 MB)\n",
            "\u001b[K     |████████████████████████████████| 76.6 MB 1.2 MB/s \n",
            "\u001b[?25hRequirement already satisfied: pandas>=0.24.0 in /usr/local/lib/python3.8/dist-packages (from catboost) (1.3.5)\n",
            "Requirement already satisfied: six in /usr/local/lib/python3.8/dist-packages (from catboost) (1.15.0)\n",
            "Requirement already satisfied: plotly in /usr/local/lib/python3.8/dist-packages (from catboost) (5.5.0)\n",
            "Requirement already satisfied: numpy>=1.16.0 in /usr/local/lib/python3.8/dist-packages (from catboost) (1.21.6)\n",
            "Requirement already satisfied: matplotlib in /usr/local/lib/python3.8/dist-packages (from catboost) (3.2.2)\n",
            "Requirement already satisfied: graphviz in /usr/local/lib/python3.8/dist-packages (from catboost) (0.10.1)\n",
            "Requirement already satisfied: scipy in /usr/local/lib/python3.8/dist-packages (from catboost) (1.7.3)\n",
            "Requirement already satisfied: pytz>=2017.3 in /usr/local/lib/python3.8/dist-packages (from pandas>=0.24.0->catboost) (2022.6)\n",
            "Requirement already satisfied: python-dateutil>=2.7.3 in /usr/local/lib/python3.8/dist-packages (from pandas>=0.24.0->catboost) (2.8.2)\n",
            "Requirement already satisfied: kiwisolver>=1.0.1 in /usr/local/lib/python3.8/dist-packages (from matplotlib->catboost) (1.4.4)\n",
            "Requirement already satisfied: pyparsing!=2.0.4,!=2.1.2,!=2.1.6,>=2.0.1 in /usr/local/lib/python3.8/dist-packages (from matplotlib->catboost) (3.0.9)\n",
            "Requirement already satisfied: cycler>=0.10 in /usr/local/lib/python3.8/dist-packages (from matplotlib->catboost) (0.11.0)\n",
            "Requirement already satisfied: tenacity>=6.2.0 in /usr/local/lib/python3.8/dist-packages (from plotly->catboost) (8.1.0)\n",
            "Installing collected packages: catboost\n",
            "Successfully installed catboost-1.1.1\n"
          ]
        }
      ],
      "source": [
        "!pip install catboost"
      ]
    },
    {
      "cell_type": "code",
      "execution_count": null,
      "metadata": {
        "id": "NGvTj5JStEMl"
      },
      "outputs": [],
      "source": [
        "# Import semua model yang akan dibandingkan\n",
        "\n",
        "from sklearn.linear_model import LogisticRegression\n",
        "from sklearn.linear_model import RidgeClassifier\n",
        "from sklearn.neighbors import KNeighborsClassifier\n",
        "from sklearn.svm import SVC\n",
        "from sklearn.tree import DecisionTreeClassifier\n",
        "from sklearn.ensemble import RandomForestClassifier\n",
        "from sklearn.ensemble import AdaBoostClassifier\n",
        "from sklearn.ensemble import GradientBoostingClassifier\n",
        "from sklearn.ensemble import HistGradientBoostingClassifier\n",
        "from sklearn.neural_network import MLPClassifier\n",
        "from xgboost import XGBClassifier\n",
        "from xgboost import XGBRFClassifier\n",
        "from lightgbm import LGBMClassifier\n",
        "from sklearn.ensemble import VotingClassifier\n",
        "from sklearn.ensemble import StackingClassifier\n",
        "from catboost import CatBoostClassifier\n",
        "\n",
        "\n",
        "model_list = {\n",
        "    'Logistic Regression':LogisticRegression(max_iter=1000, random_state=42),\n",
        "    'Ridge Classifier':RidgeClassifier(random_state=42),\n",
        "    'KNN':KNeighborsClassifier(),\n",
        "    'SVC':SVC(random_state=42),\n",
        "    'Neural Network':MLPClassifier(max_iter=1000, random_state=42),\n",
        "    'Decision Tree':DecisionTreeClassifier(random_state=42),\n",
        "    'Gradient Boosting Classifier':GradientBoostingClassifier(random_state=42),\n",
        "    'AdaBoost Classifier':AdaBoostClassifier(random_state=42),\n",
        "    'Hist Gradient Boosting':HistGradientBoostingClassifier(random_state=42),\n",
        "    'XGBoost':XGBClassifier(random_state=42, use_label_encoder=False, eval_metric='logloss'),\n",
        "    'LightGBM':LGBMClassifier(random_state=42),\n",
        "    'Random Forest':RandomForestClassifier(random_state=42),\n",
        "    'Catboost Classifier':CatBoostClassifier(random_state=42, silent=True),\n",
        "}"
      ]
    },
    {
      "cell_type": "code",
      "execution_count": null,
      "metadata": {
        "id": "kuizoZZmbqqg"
      },
      "outputs": [],
      "source": [
        "# Import seluruh metrics akurasi\n",
        "\n",
        "from sklearn.metrics import accuracy_score\n",
        "from sklearn.metrics import precision_score\n",
        "from sklearn.metrics import recall_score\n",
        "from sklearn.metrics import f1_score\n",
        "from sklearn.metrics import roc_auc_score\n",
        "from sklearn.metrics import log_loss\n",
        "from sklearn.metrics import confusion_matrix\n",
        "from sklearn.metrics import classification_report\n",
        "from sklearn.metrics import make_scorer\n"
      ]
    },
    {
      "cell_type": "code",
      "execution_count": null,
      "metadata": {
        "id": "CejUXbonbgHG"
      },
      "outputs": [],
      "source": [
        "# Membuat function untuk menampilkan semua model yang dibandingkan\n",
        "# beserta nilai akurasi metriknya (accuracy, precision, recall, f1, roc_auc)\n",
        "\n",
        "def get_score(y_pred_list, y_test, average=None, plot=True, axis=0, cmap='Blues'):\n",
        "  model_name = []\n",
        "  accuracy = []\n",
        "  precision = []\n",
        "  recall = []\n",
        "  f1 = []\n",
        "  roc_auc = []\n",
        "\n",
        "  for name, y_pred in y_pred_list.items():\n",
        "    model_name.append(name)\n",
        "    if average != None:\n",
        "      accuracy.append(accuracy_score(y_test, y_pred))\n",
        "      precision.append(precision_score(y_test, y_pred, average=average))\n",
        "      recall.append(recall_score(y_test, y_pred, average=average))\n",
        "      f1.append(f1_score(y_test, y_pred, average=average))\n",
        "      roc_auc.append(roc_auc_score(y_test, y_pred, average=average))\n",
        "\n",
        "      score_list = {\n",
        "        'model':model_name,\n",
        "        'accuracy':accuracy,\n",
        "        f'{average}_avg_precision':precision,\n",
        "        f'{average}_avg_recall':recall,\n",
        "        f'{average}_avg_f1_score':f1,\n",
        "        'roc_auc':roc_auc\n",
        "      }\n",
        "    else:\n",
        "      accuracy.append(accuracy_score(y_test, y_pred))\n",
        "      precision.append(precision_score(y_test, y_pred))\n",
        "      recall.append(recall_score(y_test, y_pred))\n",
        "      f1.append(f1_score(y_test, y_pred))\n",
        "      roc_auc.append(roc_auc_score(y_test, y_pred))\n",
        "\n",
        "      score_list = {\n",
        "        'model':model_name,\n",
        "        'accuracy':accuracy,\n",
        "        'precision':precision,\n",
        "        'recall':recall,\n",
        "        'f1_score':f1,\n",
        "        'roc_auc':roc_auc\n",
        "      }\n",
        "\n",
        "  score_df = pd.DataFrame(score_list).set_index('model')\n",
        "\n",
        "  if plot:\n",
        "    display(score_df.style.background_gradient(axis=axis, cmap=cmap))\n",
        "\n",
        "  return score_df"
      ]
    },
    {
      "cell_type": "code",
      "execution_count": null,
      "metadata": {
        "colab": {
          "background_save": true
        },
        "id": "3tViW3J-wOO2",
        "outputId": "3e2b5383-ee7f-4846-c679-2b1b262e43b7"
      },
      "outputs": [
        {
          "data": {
            "text/html": [
              "<style type=\"text/css\">\n",
              "#T_9223e_row0_col0, #T_9223e_row0_col2, #T_9223e_row0_col4, #T_9223e_row3_col0, #T_9223e_row3_col2, #T_9223e_row3_col4 {\n",
              "  background-color: #69add5;\n",
              "  color: #f1f1f1;\n",
              "}\n",
              "#T_9223e_row0_col1 {\n",
              "  background-color: #a8cee4;\n",
              "  color: #000000;\n",
              "}\n",
              "#T_9223e_row0_col3, #T_9223e_row3_col3 {\n",
              "  background-color: #64a9d3;\n",
              "  color: #f1f1f1;\n",
              "}\n",
              "#T_9223e_row1_col0, #T_9223e_row1_col1, #T_9223e_row1_col2, #T_9223e_row1_col3, #T_9223e_row1_col4 {\n",
              "  background-color: #f7fbff;\n",
              "  color: #000000;\n",
              "}\n",
              "#T_9223e_row2_col0, #T_9223e_row2_col2, #T_9223e_row2_col3, #T_9223e_row2_col4 {\n",
              "  background-color: #bdd7ec;\n",
              "  color: #000000;\n",
              "}\n",
              "#T_9223e_row2_col1 {\n",
              "  background-color: #bcd7eb;\n",
              "  color: #000000;\n",
              "}\n",
              "#T_9223e_row3_col1 {\n",
              "  background-color: #a5cde3;\n",
              "  color: #000000;\n",
              "}\n",
              "#T_9223e_row4_col0, #T_9223e_row4_col2, #T_9223e_row4_col4 {\n",
              "  background-color: #3787c0;\n",
              "  color: #f1f1f1;\n",
              "}\n",
              "#T_9223e_row4_col1 {\n",
              "  background-color: #3a8ac2;\n",
              "  color: #f1f1f1;\n",
              "}\n",
              "#T_9223e_row4_col3 {\n",
              "  background-color: #3686c0;\n",
              "  color: #f1f1f1;\n",
              "}\n",
              "#T_9223e_row5_col0, #T_9223e_row5_col2, #T_9223e_row5_col4 {\n",
              "  background-color: #b2d2e8;\n",
              "  color: #000000;\n",
              "}\n",
              "#T_9223e_row5_col1 {\n",
              "  background-color: #f5f9fe;\n",
              "  color: #000000;\n",
              "}\n",
              "#T_9223e_row5_col3 {\n",
              "  background-color: #a6cee4;\n",
              "  color: #000000;\n",
              "}\n",
              "#T_9223e_row6_col0, #T_9223e_row6_col2, #T_9223e_row6_col4 {\n",
              "  background-color: #083877;\n",
              "  color: #f1f1f1;\n",
              "}\n",
              "#T_9223e_row6_col1, #T_9223e_row10_col1 {\n",
              "  background-color: #08326e;\n",
              "  color: #f1f1f1;\n",
              "}\n",
              "#T_9223e_row6_col3, #T_9223e_row9_col0, #T_9223e_row9_col2, #T_9223e_row9_col4 {\n",
              "  background-color: #083979;\n",
              "  color: #f1f1f1;\n",
              "}\n",
              "#T_9223e_row7_col0, #T_9223e_row7_col2, #T_9223e_row7_col4 {\n",
              "  background-color: #125da6;\n",
              "  color: #f1f1f1;\n",
              "}\n",
              "#T_9223e_row7_col1, #T_9223e_row11_col3 {\n",
              "  background-color: #1764ab;\n",
              "  color: #f1f1f1;\n",
              "}\n",
              "#T_9223e_row7_col3 {\n",
              "  background-color: #115ca5;\n",
              "  color: #f1f1f1;\n",
              "}\n",
              "#T_9223e_row8_col0, #T_9223e_row8_col2, #T_9223e_row8_col3, #T_9223e_row8_col4 {\n",
              "  background-color: #083370;\n",
              "  color: #f1f1f1;\n",
              "}\n",
              "#T_9223e_row8_col1 {\n",
              "  background-color: #083573;\n",
              "  color: #f1f1f1;\n",
              "}\n",
              "#T_9223e_row9_col1, #T_9223e_row10_col0, #T_9223e_row10_col2, #T_9223e_row10_col3, #T_9223e_row10_col4 {\n",
              "  background-color: #08306b;\n",
              "  color: #f1f1f1;\n",
              "}\n",
              "#T_9223e_row9_col3 {\n",
              "  background-color: #083a7a;\n",
              "  color: #f1f1f1;\n",
              "}\n",
              "#T_9223e_row11_col0, #T_9223e_row11_col2, #T_9223e_row11_col4 {\n",
              "  background-color: #1967ad;\n",
              "  color: #f1f1f1;\n",
              "}\n",
              "#T_9223e_row11_col1 {\n",
              "  background-color: #4493c7;\n",
              "  color: #f1f1f1;\n",
              "}\n",
              "#T_9223e_row12_col0, #T_9223e_row12_col2, #T_9223e_row12_col4 {\n",
              "  background-color: #084285;\n",
              "  color: #f1f1f1;\n",
              "}\n",
              "#T_9223e_row12_col1 {\n",
              "  background-color: #1460a8;\n",
              "  color: #f1f1f1;\n",
              "}\n",
              "#T_9223e_row12_col3 {\n",
              "  background-color: #084082;\n",
              "  color: #f1f1f1;\n",
              "}\n",
              "</style>\n",
              "<table id=\"T_9223e_\" class=\"dataframe\">\n",
              "  <thead>\n",
              "    <tr>\n",
              "      <th class=\"blank level0\" >&nbsp;</th>\n",
              "      <th class=\"col_heading level0 col0\" >accuracy</th>\n",
              "      <th class=\"col_heading level0 col1\" >macro_avg_precision</th>\n",
              "      <th class=\"col_heading level0 col2\" >macro_avg_recall</th>\n",
              "      <th class=\"col_heading level0 col3\" >macro_avg_f1_score</th>\n",
              "      <th class=\"col_heading level0 col4\" >roc_auc</th>\n",
              "    </tr>\n",
              "    <tr>\n",
              "      <th class=\"index_name level0\" >model</th>\n",
              "      <th class=\"blank col0\" >&nbsp;</th>\n",
              "      <th class=\"blank col1\" >&nbsp;</th>\n",
              "      <th class=\"blank col2\" >&nbsp;</th>\n",
              "      <th class=\"blank col3\" >&nbsp;</th>\n",
              "      <th class=\"blank col4\" >&nbsp;</th>\n",
              "    </tr>\n",
              "  </thead>\n",
              "  <tbody>\n",
              "    <tr>\n",
              "      <th id=\"T_9223e_level0_row0\" class=\"row_heading level0 row0\" >Logistic Regression</th>\n",
              "      <td id=\"T_9223e_row0_col0\" class=\"data row0 col0\" >0.838352</td>\n",
              "      <td id=\"T_9223e_row0_col1\" class=\"data row0 col1\" >0.843832</td>\n",
              "      <td id=\"T_9223e_row0_col2\" class=\"data row0 col2\" >0.838278</td>\n",
              "      <td id=\"T_9223e_row0_col3\" class=\"data row0 col3\" >0.837684</td>\n",
              "      <td id=\"T_9223e_row0_col4\" class=\"data row0 col4\" >0.838278</td>\n",
              "    </tr>\n",
              "    <tr>\n",
              "      <th id=\"T_9223e_level0_row1\" class=\"row_heading level0 row1\" >Ridge Classifier</th>\n",
              "      <td id=\"T_9223e_row1_col0\" class=\"data row1 col0\" >0.807952</td>\n",
              "      <td id=\"T_9223e_row1_col1\" class=\"data row1 col1\" >0.826102</td>\n",
              "      <td id=\"T_9223e_row1_col2\" class=\"data row1 col2\" >0.807812</td>\n",
              "      <td id=\"T_9223e_row1_col3\" class=\"data row1 col3\" >0.805193</td>\n",
              "      <td id=\"T_9223e_row1_col4\" class=\"data row1 col4\" >0.807812</td>\n",
              "    </tr>\n",
              "    <tr>\n",
              "      <th id=\"T_9223e_level0_row2\" class=\"row_heading level0 row2\" >KNN</th>\n",
              "      <td id=\"T_9223e_row2_col0\" class=\"data row2 col0\" >0.824732</td>\n",
              "      <td id=\"T_9223e_row2_col1\" class=\"data row2 col1\" >0.840709</td>\n",
              "      <td id=\"T_9223e_row2_col2\" class=\"data row2 col2\" >0.824604</td>\n",
              "      <td id=\"T_9223e_row2_col3\" class=\"data row2 col3\" >0.822613</td>\n",
              "      <td id=\"T_9223e_row2_col4\" class=\"data row2 col4\" >0.824604</td>\n",
              "    </tr>\n",
              "    <tr>\n",
              "      <th id=\"T_9223e_level0_row3\" class=\"row_heading level0 row3\" >SVC</th>\n",
              "      <td id=\"T_9223e_row3_col0\" class=\"data row3 col0\" >0.838352</td>\n",
              "      <td id=\"T_9223e_row3_col1\" class=\"data row3 col1\" >0.844257</td>\n",
              "      <td id=\"T_9223e_row3_col2\" class=\"data row3 col2\" >0.838275</td>\n",
              "      <td id=\"T_9223e_row3_col3\" class=\"data row3 col3\" >0.837634</td>\n",
              "      <td id=\"T_9223e_row3_col4\" class=\"data row3 col4\" >0.838275</td>\n",
              "    </tr>\n",
              "    <tr>\n",
              "      <th id=\"T_9223e_level0_row4\" class=\"row_heading level0 row4\" >Neural Network</th>\n",
              "      <td id=\"T_9223e_row4_col0\" class=\"data row4 col0\" >0.848088</td>\n",
              "      <td id=\"T_9223e_row4_col1\" class=\"data row4 col1\" >0.859789</td>\n",
              "      <td id=\"T_9223e_row4_col2\" class=\"data row4 col2\" >0.847981</td>\n",
              "      <td id=\"T_9223e_row4_col3\" class=\"data row4 col3\" >0.846814</td>\n",
              "      <td id=\"T_9223e_row4_col4\" class=\"data row4 col4\" >0.847981</td>\n",
              "    </tr>\n",
              "    <tr>\n",
              "      <th id=\"T_9223e_level0_row5\" class=\"row_heading level0 row5\" >Decision Tree</th>\n",
              "      <td id=\"T_9223e_row5_col0\" class=\"data row5 col0\" >0.826818</td>\n",
              "      <td id=\"T_9223e_row5_col1\" class=\"data row5 col1\" >0.826820</td>\n",
              "      <td id=\"T_9223e_row5_col2\" class=\"data row5 col2\" >0.826816</td>\n",
              "      <td id=\"T_9223e_row5_col3\" class=\"data row5 col3\" >0.826817</td>\n",
              "      <td id=\"T_9223e_row5_col4\" class=\"data row5 col4\" >0.826816</td>\n",
              "    </tr>\n",
              "    <tr>\n",
              "      <th id=\"T_9223e_level0_row6\" class=\"row_heading level0 row6\" >Gradient Boosting Classifier</th>\n",
              "      <td id=\"T_9223e_row6_col0\" class=\"data row6 col0\" >0.866168</td>\n",
              "      <td id=\"T_9223e_row6_col1\" class=\"data row6 col1\" >0.877102</td>\n",
              "      <td id=\"T_9223e_row6_col2\" class=\"data row6 col2\" >0.866067</td>\n",
              "      <td id=\"T_9223e_row6_col3\" class=\"data row6 col3\" >0.865168</td>\n",
              "      <td id=\"T_9223e_row6_col4\" class=\"data row6 col4\" >0.866067</td>\n",
              "    </tr>\n",
              "    <tr>\n",
              "      <th id=\"T_9223e_level0_row7\" class=\"row_heading level0 row7\" >AdaBoost Classifier</th>\n",
              "      <td id=\"T_9223e_row7_col0\" class=\"data row7 col0\" >0.857763</td>\n",
              "      <td id=\"T_9223e_row7_col1\" class=\"data row7 col1\" >0.867233</td>\n",
              "      <td id=\"T_9223e_row7_col2\" class=\"data row7 col2\" >0.857668</td>\n",
              "      <td id=\"T_9223e_row7_col3\" class=\"data row7 col3\" >0.856817</td>\n",
              "      <td id=\"T_9223e_row7_col4\" class=\"data row7 col4\" >0.857668</td>\n",
              "    </tr>\n",
              "    <tr>\n",
              "      <th id=\"T_9223e_level0_row8\" class=\"row_heading level0 row8\" >Hist Gradient Boosting</th>\n",
              "      <td id=\"T_9223e_row8_col0\" class=\"data row8 col0\" >0.867438</td>\n",
              "      <td id=\"T_9223e_row8_col1\" class=\"data row8 col1\" >0.876481</td>\n",
              "      <td id=\"T_9223e_row8_col2\" class=\"data row8 col2\" >0.867346</td>\n",
              "      <td id=\"T_9223e_row8_col3\" class=\"data row8 col3\" >0.866616</td>\n",
              "      <td id=\"T_9223e_row8_col4\" class=\"data row8 col4\" >0.867346</td>\n",
              "    </tr>\n",
              "    <tr>\n",
              "      <th id=\"T_9223e_level0_row9\" class=\"row_heading level0 row9\" >XGBoost</th>\n",
              "      <td id=\"T_9223e_row9_col0\" class=\"data row9 col0\" >0.865956</td>\n",
              "      <td id=\"T_9223e_row9_col1\" class=\"data row9 col1\" >0.877542</td>\n",
              "      <td id=\"T_9223e_row9_col2\" class=\"data row9 col2\" >0.865853</td>\n",
              "      <td id=\"T_9223e_row9_col3\" class=\"data row9 col3\" >0.864896</td>\n",
              "      <td id=\"T_9223e_row9_col4\" class=\"data row9 col4\" >0.865853</td>\n",
              "    </tr>\n",
              "    <tr>\n",
              "      <th id=\"T_9223e_level0_row10\" class=\"row_heading level0 row10\" >LightGBM</th>\n",
              "      <td id=\"T_9223e_row10_col0\" class=\"data row10 col0\" >0.868193</td>\n",
              "      <td id=\"T_9223e_row10_col1\" class=\"data row10 col1\" >0.877132</td>\n",
              "      <td id=\"T_9223e_row10_col2\" class=\"data row10 col2\" >0.868103</td>\n",
              "      <td id=\"T_9223e_row10_col3\" class=\"data row10 col3\" >0.867388</td>\n",
              "      <td id=\"T_9223e_row10_col4\" class=\"data row10 col4\" >0.868103</td>\n",
              "    </tr>\n",
              "    <tr>\n",
              "      <th id=\"T_9223e_level0_row11\" class=\"row_heading level0 row11\" >Random Forest</th>\n",
              "      <td id=\"T_9223e_row11_col0\" class=\"data row11 col0\" >0.855253</td>\n",
              "      <td id=\"T_9223e_row11_col1\" class=\"data row11 col1\" >0.857984</td>\n",
              "      <td id=\"T_9223e_row11_col2\" class=\"data row11 col2\" >0.855202</td>\n",
              "      <td id=\"T_9223e_row11_col3\" class=\"data row11 col3\" >0.854964</td>\n",
              "      <td id=\"T_9223e_row11_col4\" class=\"data row11 col4\" >0.855202</td>\n",
              "    </tr>\n",
              "    <tr>\n",
              "      <th id=\"T_9223e_level0_row12\" class=\"row_heading level0 row12\" >Catboost Classifier</th>\n",
              "      <td id=\"T_9223e_row12_col0\" class=\"data row12 col0\" >0.864082</td>\n",
              "      <td id=\"T_9223e_row12_col1\" class=\"data row12 col1\" >0.867992</td>\n",
              "      <td id=\"T_9223e_row12_col2\" class=\"data row12 col2\" >0.864021</td>\n",
              "      <td id=\"T_9223e_row12_col3\" class=\"data row12 col3\" >0.863706</td>\n",
              "      <td id=\"T_9223e_row12_col4\" class=\"data row12 col4\" >0.864021</td>\n",
              "    </tr>\n",
              "  </tbody>\n",
              "</table>\n"
            ],
            "text/plain": [
              "<pandas.io.formats.style.Styler at 0x7fd25e801220>"
            ]
          },
          "metadata": {},
          "output_type": "display_data"
        }
      ],
      "source": [
        "y_pred_list_2 = dict()\n",
        "\n",
        "for name, model in model_list.items():\n",
        "  model.fit(X_train_drop, y_train_drop)\n",
        "  y_pred_list_2[name] = model.predict(X_test_drop)\n",
        "\n",
        "score = get_score(y_pred_list_2, y_test_drop, average='macro')"
      ]
    },
    {
      "cell_type": "markdown",
      "source": [
        "# LGBM"
      ],
      "metadata": {
        "id": "tbFjMyDo5p7v"
      }
    },
    {
      "cell_type": "markdown",
      "source": [
        "From the table above, we can see the best performing model is using LightGBM Classifier Algorithm. Hence, we'll use LGBMClassifier from this point forward."
      ],
      "metadata": {
        "id": "ilqVaexu8hgX"
      }
    },
    {
      "cell_type": "markdown",
      "source": [
        "## LGBMClassifier Baseline Model"
      ],
      "metadata": {
        "id": "OmBafD2AfDWA"
      }
    },
    {
      "cell_type": "code",
      "source": [
        "from lightgbm import LGBMClassifier\n",
        "modelLGBM = LGBMClassifier(random_state=42)\n",
        "modelLGBM.fit(X_train_drop, y_train_drop)\n",
        "modelLGBM.score(X_test_drop, y_test_drop)"
      ],
      "metadata": {
        "colab": {
          "base_uri": "https://localhost:8080/"
        },
        "id": "lI2fauq6fGad",
        "outputId": "f8d6fbcc-de7d-4cea-91f2-320e0ce90215"
      },
      "execution_count": null,
      "outputs": [
        {
          "output_type": "execute_result",
          "data": {
            "text/plain": [
              "0.868193499622071"
            ]
          },
          "metadata": {},
          "execution_count": 56
        }
      ]
    },
    {
      "cell_type": "markdown",
      "source": [
        "To see the most important features, we plot the feature importance. From the plot below, we can see the top 10 features are dominated by features derived from the clickstream datasets, except the first feature, account_age_months, that derived from customer datasets."
      ],
      "metadata": {
        "id": "3Z9b58l89OCE"
      }
    },
    {
      "cell_type": "code",
      "source": [
        "# Plot feature importance\n",
        "feature_importance = modelLGBM.feature_importances_\n",
        "# make importances relative to max importance\n",
        "feature_importance = 100.0 * (feature_importance / feature_importance.max())\n",
        "sorted_idx = np.argsort(feature_importance)\n",
        "pos = np.arange(sorted_idx.shape[0]) + .5\n",
        "# plt.subplot(1, 2, 2)\n",
        "plt.figure(figsize=(8, 18))\n",
        "plt.barh(pos, feature_importance[sorted_idx], align='center')\n",
        "plt.yticks(pos, X_train_drop.keys()[sorted_idx])\n",
        "plt.xlabel('Relative Importance')\n",
        "plt.title('Variable Importance')\n",
        "plt.show()"
      ],
      "metadata": {
        "colab": {
          "base_uri": "https://localhost:8080/",
          "height": 1000
        },
        "id": "cj2BjIXIfnlZ",
        "outputId": "dddb80fe-2b21-44f1-867a-d4483cbd833a"
      },
      "execution_count": null,
      "outputs": [
        {
          "output_type": "display_data",
          "data": {
            "text/plain": [
              "<Figure size 576x1296 with 1 Axes>"
            ],
            "image/png": "[encoded data removed]"
          },
          "metadata": {}
        }
      ]
    },
    {
      "cell_type": "markdown",
      "source": [
        "## Evaluate Using Validation Set"
      ],
      "metadata": {
        "id": "1zQwVc-4jUfp"
      }
    },
    {
      "cell_type": "code",
      "execution_count": null,
      "metadata": {
        "id": "TV5RDjbz4_T1"
      },
      "outputs": [],
      "source": [
        "df_validation_scaled_drop = df_validation_scaled.drop(columns='transaction_recency_days')"
      ]
    },
    {
      "cell_type": "code",
      "source": [
        "# evaluasi\n",
        "\n",
        "validation_predict_lgbm = modelLGBM.predict(df_validation_scaled_drop)\n",
        "\n",
        "print('Akurasi model ini adalah: ', metrics.accuracy_score(df_validation_label, validation_predict_lgbm))"
      ],
      "metadata": {
        "colab": {
          "base_uri": "https://localhost:8080/"
        },
        "id": "fRh6DxJxjTuf",
        "outputId": "63be2cb4-827b-42ba-e954-f153ca3d6c27"
      },
      "execution_count": null,
      "outputs": [
        {
          "output_type": "stream",
          "name": "stdout",
          "text": [
            "Akurasi model ini adalah:  0.797372392974753\n"
          ]
        }
      ]
    },
    {
      "cell_type": "markdown",
      "source": [
        "## LGBM PCA"
      ],
      "metadata": {
        "id": "vlFrEyvifcfn"
      }
    },
    {
      "cell_type": "code",
      "source": [
        "import matplotlib.pyplot as plt\n",
        "import seaborn as sns\n",
        "from sklearn.decomposition import PCA\n",
        "pca_test = PCA(n_components=33)\n",
        "pca_test.fit(X_train_drop)\n",
        "sns.set(style='whitegrid')\n",
        "plt.plot(np.cumsum(pca_test.explained_variance_ratio_))\n",
        "plt.xlabel('number of components')\n",
        "plt.ylabel('cumulative explained variance')\n",
        "plt.axvline(linewidth=4, color='r', linestyle = '--', x=10, ymin=0, ymax=1)\n",
        "display(plt.show())\n",
        "evr = pca_test.explained_variance_ratio_\n",
        "cvr = np.cumsum(pca_test.explained_variance_ratio_)\n",
        "pca_df = pd.DataFrame()\n",
        "pca_df['Cumulative Variance Ratio'] = cvr\n",
        "pca_df['Explained Variance Ratio'] = evr\n",
        "display(pca_df.head(10))"
      ],
      "metadata": {
        "colab": {
          "base_uri": "https://localhost:8080/",
          "height": 648
        },
        "id": "_OzpDio034iV",
        "outputId": "4d9a3fef-108b-42ca-a6eb-c6fed3090d15"
      },
      "execution_count": null,
      "outputs": [
        {
          "output_type": "display_data",
          "data": {
            "text/plain": [
              "<Figure size 432x288 with 1 Axes>"
            ],
            "image/png": "[encoded data removed]"
          },
          "metadata": {}
        },
        {
          "output_type": "display_data",
          "data": {
            "text/plain": [
              "None"
            ]
          },
          "metadata": {}
        },
        {
          "output_type": "display_data",
          "data": {
            "text/plain": [
              "   Cumulative Variance Ratio  Explained Variance Ratio\n",
              "0                   0.601273                  0.601273\n",
              "1                   0.707303                  0.106030\n",
              "2                   0.781339                  0.074036\n",
              "3                   0.851280                  0.069941\n",
              "4                   0.904689                  0.053409\n",
              "5                   0.937477                  0.032788\n",
              "6                   0.956626                  0.019149\n",
              "7                   0.973787                  0.017161\n",
              "8                   0.978156                  0.004369\n",
              "9                   0.981620                  0.003464"
            ],
            "text/html": [
              "\n",
              "  <div id=\"df-242f876f-a44d-4412-ac26-e6f9fd166df8\">\n",
              "    <div class=\"colab-df-container\">\n",
              "      <div>\n",
              "<style scoped>\n",
              "    .dataframe tbody tr th:only-of-type {\n",
              "        vertical-align: middle;\n",
              "    }\n",
              "\n",
              "    .dataframe tbody tr th {\n",
              "        vertical-align: top;\n",
              "    }\n",
              "\n",
              "    .dataframe thead th {\n",
              "        text-align: right;\n",
              "    }\n",
              "</style>\n",
              "<table border=\"1\" class=\"dataframe\">\n",
              "  <thead>\n",
              "    <tr style=\"text-align: right;\">\n",
              "      <th></th>\n",
              "      <th>Cumulative Variance Ratio</th>\n",
              "      <th>Explained Variance Ratio</th>\n",
              "    </tr>\n",
              "  </thead>\n",
              "  <tbody>\n",
              "    <tr>\n",
              "      <th>0</th>\n",
              "      <td>0.601273</td>\n",
              "      <td>0.601273</td>\n",
              "    </tr>\n",
              "    <tr>\n",
              "      <th>1</th>\n",
              "      <td>0.707303</td>\n",
              "      <td>0.106030</td>\n",
              "    </tr>\n",
              "    <tr>\n",
              "      <th>2</th>\n",
              "      <td>0.781339</td>\n",
              "      <td>0.074036</td>\n",
              "    </tr>\n",
              "    <tr>\n",
              "      <th>3</th>\n",
              "      <td>0.851280</td>\n",
              "      <td>0.069941</td>\n",
              "    </tr>\n",
              "    <tr>\n",
              "      <th>4</th>\n",
              "      <td>0.904689</td>\n",
              "      <td>0.053409</td>\n",
              "    </tr>\n",
              "    <tr>\n",
              "      <th>5</th>\n",
              "      <td>0.937477</td>\n",
              "      <td>0.032788</td>\n",
              "    </tr>\n",
              "    <tr>\n",
              "      <th>6</th>\n",
              "      <td>0.956626</td>\n",
              "      <td>0.019149</td>\n",
              "    </tr>\n",
              "    <tr>\n",
              "      <th>7</th>\n",
              "      <td>0.973787</td>\n",
              "      <td>0.017161</td>\n",
              "    </tr>\n",
              "    <tr>\n",
              "      <th>8</th>\n",
              "      <td>0.978156</td>\n",
              "      <td>0.004369</td>\n",
              "    </tr>\n",
              "    <tr>\n",
              "      <th>9</th>\n",
              "      <td>0.981620</td>\n",
              "      <td>0.003464</td>\n",
              "    </tr>\n",
              "  </tbody>\n",
              "</table>\n",
              "</div>\n",
              "      <button class=\"colab-df-convert\" onclick=\"convertToInteractive('df-242f876f-a44d-4412-ac26-e6f9fd166df8')\"\n",
              "              title=\"Convert this dataframe to an interactive table.\"\n",
              "              style=\"display:none;\">\n",
              "        \n",
              "  <svg xmlns=\"http://www.w3.org/2000/svg\" height=\"24px\"viewBox=\"0 0 24 24\"\n",
              "       width=\"24px\">\n",
              "    <path d=\"M0 0h24v24H0V0z\" fill=\"none\"/>\n",
              "    <path d=\"M18.56 5.44l.94 2.06.94-2.06 2.06-.94-2.06-.94-.94-2.06-.94 2.06-2.06.94zm-11 1L8.5 8.5l.94-2.06 2.06-.94-2.06-.94L8.5 2.5l-.94 2.06-2.06.94zm10 10l.94 2.06.94-2.06 2.06-.94-2.06-.94-.94-2.06-.94 2.06-2.06.94z\"/><path d=\"M17.41 7.96l-1.37-1.37c-.4-.4-.92-.59-1.43-.59-.52 0-1.04.2-1.43.59L10.3 9.45l-7.72 7.72c-.78.78-.78 2.05 0 2.83L4 21.41c.39.39.9.59 1.41.59.51 0 1.02-.2 1.41-.59l7.78-7.78 2.81-2.81c.8-.78.8-2.07 0-2.86zM5.41 20L4 18.59l7.72-7.72 1.47 1.35L5.41 20z\"/>\n",
              "  </svg>\n",
              "      </button>\n",
              "      \n",
              "  <style>\n",
              "    .colab-df-container {\n",
              "      display:flex;\n",
              "      flex-wrap:wrap;\n",
              "      gap: 12px;\n",
              "    }\n",
              "\n",
              "    .colab-df-convert {\n",
              "      background-color: #E8F0FE;\n",
              "      border: none;\n",
              "      border-radius: 50%;\n",
              "      cursor: pointer;\n",
              "      display: none;\n",
              "      fill: #1967D2;\n",
              "      height: 32px;\n",
              "      padding: 0 0 0 0;\n",
              "      width: 32px;\n",
              "    }\n",
              "\n",
              "    .colab-df-convert:hover {\n",
              "      background-color: #E2EBFA;\n",
              "      box-shadow: 0px 1px 2px rgba(60, 64, 67, 0.3), 0px 1px 3px 1px rgba(60, 64, 67, 0.15);\n",
              "      fill: #174EA6;\n",
              "    }\n",
              "\n",
              "    [theme=dark] .colab-df-convert {\n",
              "      background-color: #3B4455;\n",
              "      fill: #D2E3FC;\n",
              "    }\n",
              "\n",
              "    [theme=dark] .colab-df-convert:hover {\n",
              "      background-color: #434B5C;\n",
              "      box-shadow: 0px 1px 3px 1px rgba(0, 0, 0, 0.15);\n",
              "      filter: drop-shadow(0px 1px 2px rgba(0, 0, 0, 0.3));\n",
              "      fill: #FFFFFF;\n",
              "    }\n",
              "  </style>\n",
              "\n",
              "      <script>\n",
              "        const buttonEl =\n",
              "          document.querySelector('#df-242f876f-a44d-4412-ac26-e6f9fd166df8 button.colab-df-convert');\n",
              "        buttonEl.style.display =\n",
              "          google.colab.kernel.accessAllowed ? 'block' : 'none';\n",
              "\n",
              "        async function convertToInteractive(key) {\n",
              "          const element = document.querySelector('#df-242f876f-a44d-4412-ac26-e6f9fd166df8');\n",
              "          const dataTable =\n",
              "            await google.colab.kernel.invokeFunction('convertToInteractive',\n",
              "                                                     [key], {});\n",
              "          if (!dataTable) return;\n",
              "\n",
              "          const docLinkHtml = 'Like what you see? Visit the ' +\n",
              "            '<a target=\"_blank\" href=https://colab.research.google.com/notebooks/data_table.ipynb>data table notebook</a>'\n",
              "            + ' to learn more about interactive tables.';\n",
              "          element.innerHTML = '';\n",
              "          dataTable['output_type'] = 'display_data';\n",
              "          await google.colab.output.renderOutput(dataTable, element);\n",
              "          const docLink = document.createElement('div');\n",
              "          docLink.innerHTML = docLinkHtml;\n",
              "          element.appendChild(docLink);\n",
              "        }\n",
              "      </script>\n",
              "    </div>\n",
              "  </div>\n",
              "  "
            ]
          },
          "metadata": {}
        }
      ]
    },
    {
      "cell_type": "markdown",
      "source": [
        "From the dataframe above, we can see with only 10 components, it still can explain over 95% of the variance. The other 23 components explain less than 5% of the variance, thus we can cut them. Hence, we'll use PCA to reduce the number of components from 33 to 10 for X_train_drop and X_test_drop and assign this “reduced dimension” datasets to X_train_drop_pca and X_test_drop_pca."
      ],
      "metadata": {
        "id": "0QORH25k-who"
      }
    },
    {
      "cell_type": "code",
      "source": [
        "pca = PCA(n_components=10)\n",
        "pca.fit(X_train_drop)\n",
        "X_train_drop_pca = pca.transform(X_train_drop)\n",
        "X_test_drop_pca = pca.transform(X_test_drop)"
      ],
      "metadata": {
        "id": "1FZZx8GO4feZ"
      },
      "execution_count": null,
      "outputs": []
    },
    {
      "cell_type": "code",
      "source": [
        "from lightgbm import LGBMClassifier\n",
        "modelLGBM_pca = LGBMClassifier(random_state=42)\n",
        "modelLGBM_pca.fit(X_train_drop_pca, y_train_drop)\n",
        "modelLGBM_pca.score(X_test_drop_pca, y_test_drop)"
      ],
      "metadata": {
        "colab": {
          "base_uri": "https://localhost:8080/"
        },
        "id": "0ZbmGEHPfWYP",
        "outputId": "5a9c8dd6-1b60-4377-e3db-28096d4ec68a"
      },
      "execution_count": null,
      "outputs": [
        {
          "output_type": "execute_result",
          "data": {
            "text/plain": [
              "0.842660619803477"
            ]
          },
          "metadata": {},
          "execution_count": 57
        }
      ]
    },
    {
      "cell_type": "markdown",
      "source": [
        "We can see above, the accuracy from the model that uses the new reduced dataset is decreased. However, we'll still try to evaluate this model to the validation set and check whether the result will turn out well or not."
      ],
      "metadata": {
        "id": "IPGmDG6hBJMq"
      }
    },
    {
      "cell_type": "code",
      "source": [
        "# Plot feature importance\n",
        "feature_importance = modelLGBM_pca.feature_importances_\n",
        "# make importances relative to max importance\n",
        "feature_importance = 100.0 * (feature_importance / feature_importance.max())\n",
        "sorted_idx = np.argsort(feature_importance)\n",
        "pos = np.arange(sorted_idx.shape[0]) + .5\n",
        "# plt.subplot(1, 2, 2)\n",
        "plt.figure(figsize=(8, 18))\n",
        "plt.barh(pos, feature_importance[sorted_idx], align='center')\n",
        "plt.yticks(pos, X_train_drop_pca.keys()[sorted_idx])\n",
        "plt.xlabel('Relative Importance')\n",
        "plt.title('Variable Importance')\n",
        "plt.show()"
      ],
      "metadata": {
        "colab": {
          "base_uri": "https://localhost:8080/",
          "height": 1000
        },
        "id": "bJz5cy2CgH2N",
        "outputId": "3a75f06e-dfea-4714-a134-939fdb29eba3"
      },
      "execution_count": null,
      "outputs": [
        {
          "output_type": "error",
          "ename": "AttributeError",
          "evalue": "ignored",
          "traceback": [
            "\u001b[0;31m---------------------------------------------------------------------------\u001b[0m",
            "\u001b[0;31mAttributeError\u001b[0m                            Traceback (most recent call last)",
            "\u001b[0;32m<ipython-input-60-45b5224b2f45>\u001b[0m in \u001b[0;36m<module>\u001b[0;34m\u001b[0m\n\u001b[1;32m      8\u001b[0m \u001b[0mplt\u001b[0m\u001b[0;34m.\u001b[0m\u001b[0mfigure\u001b[0m\u001b[0;34m(\u001b[0m\u001b[0mfigsize\u001b[0m\u001b[0;34m=\u001b[0m\u001b[0;34m(\u001b[0m\u001b[0;36m8\u001b[0m\u001b[0;34m,\u001b[0m \u001b[0;36m18\u001b[0m\u001b[0;34m)\u001b[0m\u001b[0;34m)\u001b[0m\u001b[0;34m\u001b[0m\u001b[0;34m\u001b[0m\u001b[0m\n\u001b[1;32m      9\u001b[0m \u001b[0mplt\u001b[0m\u001b[0;34m.\u001b[0m\u001b[0mbarh\u001b[0m\u001b[0;34m(\u001b[0m\u001b[0mpos\u001b[0m\u001b[0;34m,\u001b[0m \u001b[0mfeature_importance\u001b[0m\u001b[0;34m[\u001b[0m\u001b[0msorted_idx\u001b[0m\u001b[0;34m]\u001b[0m\u001b[0;34m,\u001b[0m \u001b[0malign\u001b[0m\u001b[0;34m=\u001b[0m\u001b[0;34m'center'\u001b[0m\u001b[0;34m)\u001b[0m\u001b[0;34m\u001b[0m\u001b[0;34m\u001b[0m\u001b[0m\n\u001b[0;32m---> 10\u001b[0;31m \u001b[0mplt\u001b[0m\u001b[0;34m.\u001b[0m\u001b[0myticks\u001b[0m\u001b[0;34m(\u001b[0m\u001b[0mpos\u001b[0m\u001b[0;34m,\u001b[0m \u001b[0mX_train_drop_pca\u001b[0m\u001b[0;34m.\u001b[0m\u001b[0mkeys\u001b[0m\u001b[0;34m(\u001b[0m\u001b[0;34m)\u001b[0m\u001b[0;34m[\u001b[0m\u001b[0msorted_idx\u001b[0m\u001b[0;34m]\u001b[0m\u001b[0;34m)\u001b[0m\u001b[0;34m\u001b[0m\u001b[0;34m\u001b[0m\u001b[0m\n\u001b[0m\u001b[1;32m     11\u001b[0m \u001b[0mplt\u001b[0m\u001b[0;34m.\u001b[0m\u001b[0mxlabel\u001b[0m\u001b[0;34m(\u001b[0m\u001b[0;34m'Relative Importance'\u001b[0m\u001b[0;34m)\u001b[0m\u001b[0;34m\u001b[0m\u001b[0;34m\u001b[0m\u001b[0m\n\u001b[1;32m     12\u001b[0m \u001b[0mplt\u001b[0m\u001b[0;34m.\u001b[0m\u001b[0mtitle\u001b[0m\u001b[0;34m(\u001b[0m\u001b[0;34m'Variable Importance'\u001b[0m\u001b[0;34m)\u001b[0m\u001b[0;34m\u001b[0m\u001b[0;34m\u001b[0m\u001b[0m\n",
            "\u001b[0;31mAttributeError\u001b[0m: 'numpy.ndarray' object has no attribute 'keys'"
          ]
        },
        {
          "output_type": "display_data",
          "data": {
            "text/plain": [
              "<Figure size 576x1296 with 1 Axes>"
            ],
            "image/png": "[encoded data removed]"
          },
          "metadata": {}
        }
      ]
    },
    {
      "cell_type": "markdown",
      "source": [
        "## Evaluate Using Validation Set PCA"
      ],
      "metadata": {
        "id": "KjIVGVrrjraA"
      }
    },
    {
      "cell_type": "code",
      "source": [
        "df_validation_scaled_drop_pca = pca.transform(df_validation_scaled_drop)"
      ],
      "metadata": {
        "id": "jtq-R832OBOU"
      },
      "execution_count": null,
      "outputs": []
    },
    {
      "cell_type": "code",
      "source": [
        "# evaluasi\n",
        "\n",
        "validation_predict_lgbm_pca = modelLGBM_pca.predict(df_validation_scaled_drop_pca)\n",
        "\n",
        "print('Akurasi model ini adalah: ', metrics.accuracy_score(df_validation_label, validation_predict_lgbm_pca))"
      ],
      "metadata": {
        "colab": {
          "base_uri": "https://localhost:8080/"
        },
        "id": "tPgL8V8jjyx-",
        "outputId": "33750f86-5721-4a40-ce75-7dcbd6e21493"
      },
      "execution_count": null,
      "outputs": [
        {
          "output_type": "stream",
          "name": "stdout",
          "text": [
            "Akurasi model ini adalah:  0.8250548847420417\n"
          ]
        }
      ]
    },
    {
      "cell_type": "markdown",
      "source": [
        "We can see above, although the new model's accuracy is decreased, when we try to evaluate it with the validation set, it performs rather well than the old model. This indicates that the new model is more stable than the old one."
      ],
      "metadata": {
        "id": "6efMN4XGCrOz"
      }
    },
    {
      "cell_type": "code",
      "source": [
        "print(metrics.plot_confusion_matrix(modelLGBM_pca, df_validation_scaled_drop_pca, df_validation_label))"
      ],
      "metadata": {
        "colab": {
          "base_uri": "https://localhost:8080/",
          "height": 357
        },
        "id": "AAY7gx3UkU2E",
        "outputId": "0f48469f-34ee-4e43-9ffa-804e423ff884"
      },
      "execution_count": null,
      "outputs": [
        {
          "output_type": "stream",
          "name": "stderr",
          "text": [
            "/usr/local/lib/python3.8/dist-packages/sklearn/utils/deprecation.py:87: FutureWarning: Function plot_confusion_matrix is deprecated; Function `plot_confusion_matrix` is deprecated in 1.0 and will be removed in 1.2. Use one of the class methods: ConfusionMatrixDisplay.from_predictions or ConfusionMatrixDisplay.from_estimator.\n",
            "  warnings.warn(msg, category=FutureWarning)\n"
          ]
        },
        {
          "output_type": "stream",
          "name": "stdout",
          "text": [
            "<sklearn.metrics._plot.confusion_matrix.ConfusionMatrixDisplay object at 0x7f34447e2ca0>\n"
          ]
        },
        {
          "output_type": "display_data",
          "data": {
            "text/plain": [
              "<Figure size 432x288 with 2 Axes>"
            ],
            "image/png": "[encoded data removed]"
          },
          "metadata": {}
        }
      ]
    },
    {
      "cell_type": "code",
      "source": [
        "print(metrics.classification_report(df_validation_label, validation_predict_lgbm_pca))"
      ],
      "metadata": {
        "colab": {
          "base_uri": "https://localhost:8080/"
        },
        "id": "kUuVRGxWkciT",
        "outputId": "2878b711-e5fc-4825-b0bb-bf4070efe80b"
      },
      "execution_count": null,
      "outputs": [
        {
          "output_type": "stream",
          "name": "stdout",
          "text": [
            "              precision    recall  f1-score   support\n",
            "\n",
            "           0       0.78      0.96      0.86     16566\n",
            "           1       0.93      0.64      0.76     12586\n",
            "\n",
            "    accuracy                           0.83     29152\n",
            "   macro avg       0.86      0.80      0.81     29152\n",
            "weighted avg       0.85      0.83      0.82     29152\n",
            "\n"
          ]
        }
      ]
    },
    {
      "cell_type": "markdown",
      "source": [
        "# Hyperparamater Tuning"
      ],
      "metadata": {
        "id": "LWJiAs7CEsuE"
      }
    },
    {
      "cell_type": "code",
      "source": [
        "from sklearn.model_selection import RandomizedSearchCV\n",
        "\n",
        "n_estimators = [int(x) for x in np.linspace(start = 100, stop = 1000, num = 10)]\n",
        "num_leaves = [int(x) for x in np.linspace(start = 20, stop = 3000, num = 10)]\n",
        "learning_rate = [float(x) for x in np.linspace(start = 0.01, stop = 0.3, num = 10)]\n",
        "max_depth = [int(x) for x in np.linspace(start = 3, stop = 12, num = 4)]\n",
        "min_split_gain = [int(x) for x in np.linspace(start = 0, stop = 5, num = 3)]\n",
        "reg_alpha = [int(x) for x in np.linspace(start = 0, stop = 100, num = 5)]\n",
        "reg_lambda = [int(x) for x in np.linspace(start = 0, stop = 100, num = 5)]\n",
        "param_dist = {'n_estimators': n_estimators,\n",
        "               'learning_rate': learning_rate,\n",
        "               'num_leaves': num_leaves,\n",
        "               'max_depth': max_depth,\n",
        "               'min_split_gain': min_split_gain,\n",
        "               'reg_alpha': reg_alpha,\n",
        "               'reg_lambda': reg_lambda,\n",
        "                }\n",
        "rs = RandomizedSearchCV(modelLGBM_pca,\n",
        "                        param_dist,\n",
        "                        n_iter = 100,\n",
        "                        cv = 3,\n",
        "                        verbose = 1,\n",
        "                        n_jobs=-1,\n",
        "                        random_state=0)\n",
        "rs.fit(X_train_drop_pca, y_train)\n",
        "rs.best_params_"
      ],
      "metadata": {
        "colab": {
          "base_uri": "https://localhost:8080/"
        },
        "id": "5pP7xhh6FW4o",
        "outputId": "b5aaf447-95b4-4788-9fc4-8b498f2612f7"
      },
      "execution_count": null,
      "outputs": [
        {
          "output_type": "stream",
          "name": "stdout",
          "text": [
            "Fitting 3 folds for each of 100 candidates, totalling 300 fits\n"
          ]
        },
        {
          "output_type": "stream",
          "name": "stderr",
          "text": [
            "/usr/local/lib/python3.8/dist-packages/joblib/externals/loky/process_executor.py:700: UserWarning: A worker stopped while some jobs were given to the executor. This can be caused by a too short worker timeout or by a memory leak.\n",
            "  warnings.warn(\n"
          ]
        },
        {
          "output_type": "execute_result",
          "data": {
            "text/plain": [
              "{'reg_lambda': 75,\n",
              " 'reg_alpha': 0,\n",
              " 'num_leaves': 2006,\n",
              " 'n_estimators': 300,\n",
              " 'min_split_gain': 0,\n",
              " 'max_depth': 9,\n",
              " 'learning_rate': 0.2677777777777778}"
            ]
          },
          "metadata": {},
          "execution_count": 79
        }
      ]
    },
    {
      "cell_type": "markdown",
      "source": [
        "## LGBM Tuned"
      ],
      "metadata": {
        "id": "1M1ownT4tljv"
      }
    },
    {
      "cell_type": "code",
      "source": [
        "from lightgbm import LGBMClassifier\n",
        "modelLGBM_tuned = LGBMClassifier(random_state=42,\n",
        "                                 reg_lambda=75,\n",
        "                                 reg_alpha=0,\n",
        "                                 num_leaves=2000,\n",
        "                                 n_estimators=300,\n",
        "                                 min_split_gain=0,\n",
        "                                 max_depth=9,\n",
        "                                 learning_rate=0.30)\n",
        "modelLGBM_tuned.fit(X_train_drop_pca, y_train_drop)\n",
        "modelLGBM_tuned.score(X_test_drop_pca, y_test_drop)"
      ],
      "metadata": {
        "colab": {
          "base_uri": "https://localhost:8080/"
        },
        "id": "aZRSICG8kbr9",
        "outputId": "489530fa-2088-4026-c178-5fc6467b5bc1"
      },
      "execution_count": null,
      "outputs": [
        {
          "output_type": "execute_result",
          "data": {
            "text/plain": [
              "0.8489342403628118"
            ]
          },
          "metadata": {},
          "execution_count": 81
        }
      ]
    },
    {
      "cell_type": "markdown",
      "source": [
        "## Evaluate LGBM Tuned Using Validation Set"
      ],
      "metadata": {
        "id": "L5cvE78Ltp3_"
      }
    },
    {
      "cell_type": "code",
      "source": [
        "# evaluasi\n",
        "\n",
        "validation_predict_lgbm_tuned = modelLGBM_tuned.predict(df_validation_scaled_drop_pca)\n",
        "\n",
        "print('Akurasi model ini adalah: ', metrics.accuracy_score(df_validation_label, validation_predict_lgbm_tuned))"
      ],
      "metadata": {
        "colab": {
          "base_uri": "https://localhost:8080/"
        },
        "id": "ZbqcmODLtvbS",
        "outputId": "60022b3a-e46e-40c7-a697-c165c7d34e00"
      },
      "execution_count": null,
      "outputs": [
        {
          "output_type": "stream",
          "name": "stdout",
          "text": [
            "Akurasi model ini adalah:  0.8055021953896817\n"
          ]
        }
      ]
    },
    {
      "cell_type": "markdown",
      "source": [
        "Unfortunately, the result showed that the tuned model does not perform well on the validation set. We suspect this is because the tuned model is overfit. Hence, we'll going to use the untuned model instead."
      ],
      "metadata": {
        "id": "y2Tcpb48vykB"
      }
    },
    {
      "cell_type": "code",
      "source": [
        "print(metrics.plot_confusion_matrix(modelLGBM_tuned, df_validation_scaled_drop_pca, df_validation_label))"
      ],
      "metadata": {
        "colab": {
          "base_uri": "https://localhost:8080/",
          "height": 378
        },
        "id": "q8G-Z6OJ0ucK",
        "outputId": "1963e9d3-10d9-42a0-c6b8-8701a2bd1914"
      },
      "execution_count": null,
      "outputs": [
        {
          "output_type": "stream",
          "name": "stderr",
          "text": [
            "/usr/local/lib/python3.8/dist-packages/sklearn/utils/deprecation.py:87: FutureWarning: Function plot_confusion_matrix is deprecated; Function `plot_confusion_matrix` is deprecated in 1.0 and will be removed in 1.2. Use one of the class methods: ConfusionMatrixDisplay.from_predictions or ConfusionMatrixDisplay.from_estimator.\n",
            "  warnings.warn(msg, category=FutureWarning)\n"
          ]
        },
        {
          "output_type": "stream",
          "name": "stdout",
          "text": [
            "<sklearn.metrics._plot.confusion_matrix.ConfusionMatrixDisplay object at 0x7f3435c846d0>\n"
          ]
        },
        {
          "output_type": "display_data",
          "data": {
            "text/plain": [
              "<Figure size 432x288 with 2 Axes>"
            ],
            "image/png": "[encoded data removed]"
          },
          "metadata": {}
        }
      ]
    },
    {
      "cell_type": "code",
      "source": [
        "print(metrics.classification_report(df_validation_label, validation_predict_lgbm_tuned))"
      ],
      "metadata": {
        "colab": {
          "base_uri": "https://localhost:8080/"
        },
        "id": "9rFtR8_N09hW",
        "outputId": "0fdf7cc3-1bdd-45b2-ac16-ea493443d29e"
      },
      "execution_count": null,
      "outputs": [
        {
          "output_type": "stream",
          "name": "stdout",
          "text": [
            "              precision    recall  f1-score   support\n",
            "\n",
            "           0       0.76      0.97      0.85     16566\n",
            "           1       0.94      0.59      0.72     12586\n",
            "\n",
            "    accuracy                           0.81     29152\n",
            "   macro avg       0.85      0.78      0.79     29152\n",
            "weighted avg       0.83      0.81      0.80     29152\n",
            "\n"
          ]
        }
      ]
    },
    {
      "cell_type": "markdown",
      "source": [
        "# Prediction"
      ],
      "metadata": {
        "id": "cYOjOYslubyS"
      }
    },
    {
      "cell_type": "code",
      "source": [
        "df_test_drop = df_test_scaled.drop(columns='transaction_recency_days')\n",
        "df_test_pca = pca.transform(df_test_drop)"
      ],
      "metadata": {
        "id": "p85Dt9NS1WYW"
      },
      "execution_count": null,
      "outputs": []
    },
    {
      "cell_type": "code",
      "source": [
        "predict_test = modelLGBM_pca.predict(df_test_pca)"
      ],
      "metadata": {
        "id": "QEtNguy1ueHy"
      },
      "execution_count": null,
      "outputs": []
    },
    {
      "cell_type": "code",
      "source": [
        "df_test_cust_id['is_churn']=predict_test"
      ],
      "metadata": {
        "id": "n4aXYMKA16TW"
      },
      "execution_count": null,
      "outputs": []
    },
    {
      "cell_type": "code",
      "source": [
        "df_test_cust_id"
      ],
      "metadata": {
        "colab": {
          "base_uri": "https://localhost:8080/",
          "height": 424
        },
        "id": "nRNbEcAt2I4u",
        "outputId": "3b9514a6-cded-4557-bcb7-3768ade666e4"
      },
      "execution_count": null,
      "outputs": [
        {
          "output_type": "execute_result",
          "data": {
            "text/plain": [
              "       customer_id  is_churn\n",
              "0                3         1\n",
              "1               18         1\n",
              "2               20         0\n",
              "3               24         1\n",
              "4               28         0\n",
              "...            ...       ...\n",
              "18341        99976         0\n",
              "18342        99986         0\n",
              "18343        99987         1\n",
              "18344        99988         1\n",
              "18345        99995         0\n",
              "\n",
              "[18346 rows x 2 columns]"
            ],
            "text/html": [
              "\n",
              "  <div id=\"df-cbe0f11e-e5db-41af-8faa-3d63984fd28e\">\n",
              "    <div class=\"colab-df-container\">\n",
              "      <div>\n",
              "<style scoped>\n",
              "    .dataframe tbody tr th:only-of-type {\n",
              "        vertical-align: middle;\n",
              "    }\n",
              "\n",
              "    .dataframe tbody tr th {\n",
              "        vertical-align: top;\n",
              "    }\n",
              "\n",
              "    .dataframe thead th {\n",
              "        text-align: right;\n",
              "    }\n",
              "</style>\n",
              "<table border=\"1\" class=\"dataframe\">\n",
              "  <thead>\n",
              "    <tr style=\"text-align: right;\">\n",
              "      <th></th>\n",
              "      <th>customer_id</th>\n",
              "      <th>is_churn</th>\n",
              "    </tr>\n",
              "  </thead>\n",
              "  <tbody>\n",
              "    <tr>\n",
              "      <th>0</th>\n",
              "      <td>3</td>\n",
              "      <td>1</td>\n",
              "    </tr>\n",
              "    <tr>\n",
              "      <th>1</th>\n",
              "      <td>18</td>\n",
              "      <td>1</td>\n",
              "    </tr>\n",
              "    <tr>\n",
              "      <th>2</th>\n",
              "      <td>20</td>\n",
              "      <td>0</td>\n",
              "    </tr>\n",
              "    <tr>\n",
              "      <th>3</th>\n",
              "      <td>24</td>\n",
              "      <td>1</td>\n",
              "    </tr>\n",
              "    <tr>\n",
              "      <th>4</th>\n",
              "      <td>28</td>\n",
              "      <td>0</td>\n",
              "    </tr>\n",
              "    <tr>\n",
              "      <th>...</th>\n",
              "      <td>...</td>\n",
              "      <td>...</td>\n",
              "    </tr>\n",
              "    <tr>\n",
              "      <th>18341</th>\n",
              "      <td>99976</td>\n",
              "      <td>0</td>\n",
              "    </tr>\n",
              "    <tr>\n",
              "      <th>18342</th>\n",
              "      <td>99986</td>\n",
              "      <td>0</td>\n",
              "    </tr>\n",
              "    <tr>\n",
              "      <th>18343</th>\n",
              "      <td>99987</td>\n",
              "      <td>1</td>\n",
              "    </tr>\n",
              "    <tr>\n",
              "      <th>18344</th>\n",
              "      <td>99988</td>\n",
              "      <td>1</td>\n",
              "    </tr>\n",
              "    <tr>\n",
              "      <th>18345</th>\n",
              "      <td>99995</td>\n",
              "      <td>0</td>\n",
              "    </tr>\n",
              "  </tbody>\n",
              "</table>\n",
              "<p>18346 rows × 2 columns</p>\n",
              "</div>\n",
              "      <button class=\"colab-df-convert\" onclick=\"convertToInteractive('df-cbe0f11e-e5db-41af-8faa-3d63984fd28e')\"\n",
              "              title=\"Convert this dataframe to an interactive table.\"\n",
              "              style=\"display:none;\">\n",
              "        \n",
              "  <svg xmlns=\"http://www.w3.org/2000/svg\" height=\"24px\"viewBox=\"0 0 24 24\"\n",
              "       width=\"24px\">\n",
              "    <path d=\"M0 0h24v24H0V0z\" fill=\"none\"/>\n",
              "    <path d=\"M18.56 5.44l.94 2.06.94-2.06 2.06-.94-2.06-.94-.94-2.06-.94 2.06-2.06.94zm-11 1L8.5 8.5l.94-2.06 2.06-.94-2.06-.94L8.5 2.5l-.94 2.06-2.06.94zm10 10l.94 2.06.94-2.06 2.06-.94-2.06-.94-.94-2.06-.94 2.06-2.06.94z\"/><path d=\"M17.41 7.96l-1.37-1.37c-.4-.4-.92-.59-1.43-.59-.52 0-1.04.2-1.43.59L10.3 9.45l-7.72 7.72c-.78.78-.78 2.05 0 2.83L4 21.41c.39.39.9.59 1.41.59.51 0 1.02-.2 1.41-.59l7.78-7.78 2.81-2.81c.8-.78.8-2.07 0-2.86zM5.41 20L4 18.59l7.72-7.72 1.47 1.35L5.41 20z\"/>\n",
              "  </svg>\n",
              "      </button>\n",
              "      \n",
              "  <style>\n",
              "    .colab-df-container {\n",
              "      display:flex;\n",
              "      flex-wrap:wrap;\n",
              "      gap: 12px;\n",
              "    }\n",
              "\n",
              "    .colab-df-convert {\n",
              "      background-color: #E8F0FE;\n",
              "      border: none;\n",
              "      border-radius: 50%;\n",
              "      cursor: pointer;\n",
              "      display: none;\n",
              "      fill: #1967D2;\n",
              "      height: 32px;\n",
              "      padding: 0 0 0 0;\n",
              "      width: 32px;\n",
              "    }\n",
              "\n",
              "    .colab-df-convert:hover {\n",
              "      background-color: #E2EBFA;\n",
              "      box-shadow: 0px 1px 2px rgba(60, 64, 67, 0.3), 0px 1px 3px 1px rgba(60, 64, 67, 0.15);\n",
              "      fill: #174EA6;\n",
              "    }\n",
              "\n",
              "    [theme=dark] .colab-df-convert {\n",
              "      background-color: #3B4455;\n",
              "      fill: #D2E3FC;\n",
              "    }\n",
              "\n",
              "    [theme=dark] .colab-df-convert:hover {\n",
              "      background-color: #434B5C;\n",
              "      box-shadow: 0px 1px 3px 1px rgba(0, 0, 0, 0.15);\n",
              "      filter: drop-shadow(0px 1px 2px rgba(0, 0, 0, 0.3));\n",
              "      fill: #FFFFFF;\n",
              "    }\n",
              "  </style>\n",
              "\n",
              "      <script>\n",
              "        const buttonEl =\n",
              "          document.querySelector('#df-cbe0f11e-e5db-41af-8faa-3d63984fd28e button.colab-df-convert');\n",
              "        buttonEl.style.display =\n",
              "          google.colab.kernel.accessAllowed ? 'block' : 'none';\n",
              "\n",
              "        async function convertToInteractive(key) {\n",
              "          const element = document.querySelector('#df-cbe0f11e-e5db-41af-8faa-3d63984fd28e');\n",
              "          const dataTable =\n",
              "            await google.colab.kernel.invokeFunction('convertToInteractive',\n",
              "                                                     [key], {});\n",
              "          if (!dataTable) return;\n",
              "\n",
              "          const docLinkHtml = 'Like what you see? Visit the ' +\n",
              "            '<a target=\"_blank\" href=https://colab.research.google.com/notebooks/data_table.ipynb>data table notebook</a>'\n",
              "            + ' to learn more about interactive tables.';\n",
              "          element.innerHTML = '';\n",
              "          dataTable['output_type'] = 'display_data';\n",
              "          await google.colab.output.renderOutput(dataTable, element);\n",
              "          const docLink = document.createElement('div');\n",
              "          docLink.innerHTML = docLinkHtml;\n",
              "          element.appendChild(docLink);\n",
              "        }\n",
              "      </script>\n",
              "    </div>\n",
              "  </div>\n",
              "  "
            ]
          },
          "metadata": {},
          "execution_count": 108
        }
      ]
    },
    {
      "cell_type": "code",
      "source": [
        "df_test_cust_id['is_churn'].value_counts().plot(kind='pie', label= 'is_churn', autopct='%.0f%%')"
      ],
      "metadata": {
        "colab": {
          "base_uri": "https://localhost:8080/",
          "height": 265
        },
        "id": "nJAmfHxj2gNc",
        "outputId": "5b39e6d1-74fa-474f-aa32-f602252dade9"
      },
      "execution_count": null,
      "outputs": [
        {
          "output_type": "execute_result",
          "data": {
            "text/plain": [
              "<matplotlib.axes._subplots.AxesSubplot at 0x7f34325359d0>"
            ]
          },
          "metadata": {},
          "execution_count": 101
        },
        {
          "output_type": "display_data",
          "data": {
            "text/plain": [
              "<Figure size 432x288 with 1 Axes>"
            ],
            "image/png": "[encoded data removed]"
          },
          "metadata": {}
        }
      ]
    },
    {
      "cell_type": "code",
      "source": [
        "df_test_cust_id.info()"
      ],
      "metadata": {
        "colab": {
          "base_uri": "https://localhost:8080/"
        },
        "id": "eLZbN35t3UV0",
        "outputId": "2a22a4cb-e1c3-4823-c989-4f6532d5d36a"
      },
      "execution_count": null,
      "outputs": [
        {
          "output_type": "stream",
          "name": "stdout",
          "text": [
            "<class 'pandas.core.frame.DataFrame'>\n",
            "RangeIndex: 18346 entries, 0 to 18345\n",
            "Data columns (total 2 columns):\n",
            " #   Column       Non-Null Count  Dtype\n",
            "---  ------       --------------  -----\n",
            " 0   customer_id  18346 non-null  int64\n",
            " 1   is_churn     18346 non-null  int64\n",
            "dtypes: int64(2)\n",
            "memory usage: 286.8 KB\n"
          ]
        }
      ]
    },
    {
      "cell_type": "code",
      "source": [
        "# df_test_cust_id.to_csv('/content/drive/MyDrive/Studi Independen/FP/df_final_predict', index=False)"
      ],
      "metadata": {
        "id": "PPdGHwMB3ldS"
      },
      "execution_count": null,
      "outputs": []
    },
    {
      "cell_type": "code",
      "source": [
        "df_target = pd.read_csv('/content/drive/MyDrive/Studi Independen/FP/df_target.csv')"
      ],
      "metadata": {
        "id": "5npE7jX94emL"
      },
      "execution_count": null,
      "outputs": []
    },
    {
      "cell_type": "code",
      "source": [
        "df_target.info()"
      ],
      "metadata": {
        "colab": {
          "base_uri": "https://localhost:8080/"
        },
        "id": "Sfw-HwYT4lcZ",
        "outputId": "aea4f46b-2462-432c-a1d0-7c6bc2d0def3"
      },
      "execution_count": null,
      "outputs": [
        {
          "output_type": "stream",
          "name": "stdout",
          "text": [
            "<class 'pandas.core.frame.DataFrame'>\n",
            "RangeIndex: 18346 entries, 0 to 18345\n",
            "Data columns (total 2 columns):\n",
            " #   Column       Non-Null Count  Dtype\n",
            "---  ------       --------------  -----\n",
            " 0   customer_id  18346 non-null  int64\n",
            " 1   is_churn     18346 non-null  int64\n",
            "dtypes: int64(2)\n",
            "memory usage: 286.8 KB\n"
          ]
        }
      ]
    },
    {
      "cell_type": "code",
      "source": [
        "df_target"
      ],
      "metadata": {
        "colab": {
          "base_uri": "https://localhost:8080/",
          "height": 424
        },
        "id": "8mqtDkAt4pHJ",
        "outputId": "451db956-6d71-4c8b-baa3-b46f62ae563b"
      },
      "execution_count": null,
      "outputs": [
        {
          "output_type": "execute_result",
          "data": {
            "text/plain": [
              "       customer_id  is_churn\n",
              "0                3         1\n",
              "1               18         1\n",
              "2               20         0\n",
              "3               24         1\n",
              "4               28         1\n",
              "...            ...       ...\n",
              "18341        99976         1\n",
              "18342        99986         1\n",
              "18343        99987         1\n",
              "18344        99988         1\n",
              "18345        99995         1\n",
              "\n",
              "[18346 rows x 2 columns]"
            ],
            "text/html": [
              "\n",
              "  <div id=\"df-b28d7656-d8be-4b4c-bc14-1c9f5a94de3a\">\n",
              "    <div class=\"colab-df-container\">\n",
              "      <div>\n",
              "<style scoped>\n",
              "    .dataframe tbody tr th:only-of-type {\n",
              "        vertical-align: middle;\n",
              "    }\n",
              "\n",
              "    .dataframe tbody tr th {\n",
              "        vertical-align: top;\n",
              "    }\n",
              "\n",
              "    .dataframe thead th {\n",
              "        text-align: right;\n",
              "    }\n",
              "</style>\n",
              "<table border=\"1\" class=\"dataframe\">\n",
              "  <thead>\n",
              "    <tr style=\"text-align: right;\">\n",
              "      <th></th>\n",
              "      <th>customer_id</th>\n",
              "      <th>is_churn</th>\n",
              "    </tr>\n",
              "  </thead>\n",
              "  <tbody>\n",
              "    <tr>\n",
              "      <th>0</th>\n",
              "      <td>3</td>\n",
              "      <td>1</td>\n",
              "    </tr>\n",
              "    <tr>\n",
              "      <th>1</th>\n",
              "      <td>18</td>\n",
              "      <td>1</td>\n",
              "    </tr>\n",
              "    <tr>\n",
              "      <th>2</th>\n",
              "      <td>20</td>\n",
              "      <td>0</td>\n",
              "    </tr>\n",
              "    <tr>\n",
              "      <th>3</th>\n",
              "      <td>24</td>\n",
              "      <td>1</td>\n",
              "    </tr>\n",
              "    <tr>\n",
              "      <th>4</th>\n",
              "      <td>28</td>\n",
              "      <td>1</td>\n",
              "    </tr>\n",
              "    <tr>\n",
              "      <th>...</th>\n",
              "      <td>...</td>\n",
              "      <td>...</td>\n",
              "    </tr>\n",
              "    <tr>\n",
              "      <th>18341</th>\n",
              "      <td>99976</td>\n",
              "      <td>1</td>\n",
              "    </tr>\n",
              "    <tr>\n",
              "      <th>18342</th>\n",
              "      <td>99986</td>\n",
              "      <td>1</td>\n",
              "    </tr>\n",
              "    <tr>\n",
              "      <th>18343</th>\n",
              "      <td>99987</td>\n",
              "      <td>1</td>\n",
              "    </tr>\n",
              "    <tr>\n",
              "      <th>18344</th>\n",
              "      <td>99988</td>\n",
              "      <td>1</td>\n",
              "    </tr>\n",
              "    <tr>\n",
              "      <th>18345</th>\n",
              "      <td>99995</td>\n",
              "      <td>1</td>\n",
              "    </tr>\n",
              "  </tbody>\n",
              "</table>\n",
              "<p>18346 rows × 2 columns</p>\n",
              "</div>\n",
              "      <button class=\"colab-df-convert\" onclick=\"convertToInteractive('df-b28d7656-d8be-4b4c-bc14-1c9f5a94de3a')\"\n",
              "              title=\"Convert this dataframe to an interactive table.\"\n",
              "              style=\"display:none;\">\n",
              "        \n",
              "  <svg xmlns=\"http://www.w3.org/2000/svg\" height=\"24px\"viewBox=\"0 0 24 24\"\n",
              "       width=\"24px\">\n",
              "    <path d=\"M0 0h24v24H0V0z\" fill=\"none\"/>\n",
              "    <path d=\"M18.56 5.44l.94 2.06.94-2.06 2.06-.94-2.06-.94-.94-2.06-.94 2.06-2.06.94zm-11 1L8.5 8.5l.94-2.06 2.06-.94-2.06-.94L8.5 2.5l-.94 2.06-2.06.94zm10 10l.94 2.06.94-2.06 2.06-.94-2.06-.94-.94-2.06-.94 2.06-2.06.94z\"/><path d=\"M17.41 7.96l-1.37-1.37c-.4-.4-.92-.59-1.43-.59-.52 0-1.04.2-1.43.59L10.3 9.45l-7.72 7.72c-.78.78-.78 2.05 0 2.83L4 21.41c.39.39.9.59 1.41.59.51 0 1.02-.2 1.41-.59l7.78-7.78 2.81-2.81c.8-.78.8-2.07 0-2.86zM5.41 20L4 18.59l7.72-7.72 1.47 1.35L5.41 20z\"/>\n",
              "  </svg>\n",
              "      </button>\n",
              "      \n",
              "  <style>\n",
              "    .colab-df-container {\n",
              "      display:flex;\n",
              "      flex-wrap:wrap;\n",
              "      gap: 12px;\n",
              "    }\n",
              "\n",
              "    .colab-df-convert {\n",
              "      background-color: #E8F0FE;\n",
              "      border: none;\n",
              "      border-radius: 50%;\n",
              "      cursor: pointer;\n",
              "      display: none;\n",
              "      fill: #1967D2;\n",
              "      height: 32px;\n",
              "      padding: 0 0 0 0;\n",
              "      width: 32px;\n",
              "    }\n",
              "\n",
              "    .colab-df-convert:hover {\n",
              "      background-color: #E2EBFA;\n",
              "      box-shadow: 0px 1px 2px rgba(60, 64, 67, 0.3), 0px 1px 3px 1px rgba(60, 64, 67, 0.15);\n",
              "      fill: #174EA6;\n",
              "    }\n",
              "\n",
              "    [theme=dark] .colab-df-convert {\n",
              "      background-color: #3B4455;\n",
              "      fill: #D2E3FC;\n",
              "    }\n",
              "\n",
              "    [theme=dark] .colab-df-convert:hover {\n",
              "      background-color: #434B5C;\n",
              "      box-shadow: 0px 1px 3px 1px rgba(0, 0, 0, 0.15);\n",
              "      filter: drop-shadow(0px 1px 2px rgba(0, 0, 0, 0.3));\n",
              "      fill: #FFFFFF;\n",
              "    }\n",
              "  </style>\n",
              "\n",
              "      <script>\n",
              "        const buttonEl =\n",
              "          document.querySelector('#df-b28d7656-d8be-4b4c-bc14-1c9f5a94de3a button.colab-df-convert');\n",
              "        buttonEl.style.display =\n",
              "          google.colab.kernel.accessAllowed ? 'block' : 'none';\n",
              "\n",
              "        async function convertToInteractive(key) {\n",
              "          const element = document.querySelector('#df-b28d7656-d8be-4b4c-bc14-1c9f5a94de3a');\n",
              "          const dataTable =\n",
              "            await google.colab.kernel.invokeFunction('convertToInteractive',\n",
              "                                                     [key], {});\n",
              "          if (!dataTable) return;\n",
              "\n",
              "          const docLinkHtml = 'Like what you see? Visit the ' +\n",
              "            '<a target=\"_blank\" href=https://colab.research.google.com/notebooks/data_table.ipynb>data table notebook</a>'\n",
              "            + ' to learn more about interactive tables.';\n",
              "          element.innerHTML = '';\n",
              "          dataTable['output_type'] = 'display_data';\n",
              "          await google.colab.output.renderOutput(dataTable, element);\n",
              "          const docLink = document.createElement('div');\n",
              "          docLink.innerHTML = docLinkHtml;\n",
              "          element.appendChild(docLink);\n",
              "        }\n",
              "      </script>\n",
              "    </div>\n",
              "  </div>\n",
              "  "
            ]
          },
          "metadata": {},
          "execution_count": 107
        }
      ]
    },
    {
      "cell_type": "markdown",
      "source": [
        "# Business Decision"
      ],
      "metadata": {
        "id": "86Hdd3lYaJN_"
      }
    },
    {
      "cell_type": "markdown",
      "source": [
        "For further EDA on business decision related, please visit this dataset: [Business Decission Notebook](https://bit.ly/PortugalFinalEDA)"
      ],
      "metadata": {
        "id": "55ZRQuDlaNXV"
      }
    }
  ],
  "metadata": {
    "colab": {
      "toc_visible": true,
      "provenance": []
    },
    "kernelspec": {
      "display_name": "Python 3",
      "name": "python3"
    },
    "language_info": {
      "name": "python"
    }
  },
  "nbformat": 4,
  "nbformat_minor": 0
}